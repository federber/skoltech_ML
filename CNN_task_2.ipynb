{
 "cells": [
  {
   "cell_type": "code",
   "execution_count": 2,
   "id": "29d3d6d4-d756-4be0-bafd-3b6a61f12a12",
   "metadata": {},
   "outputs": [],
   "source": [
    "# Fundamental classes\n",
    "import numpy as np \n",
    "import pandas as pd \n",
    "import tensorflow as tf\n",
    "import os\n",
    "\n",
    "# Image related\n",
    "import cv2\n",
    "from PIL import Image\n",
    "\n",
    "#Performance Plot\n",
    "from sklearn import metrics \n",
    "from sklearn.metrics import f1_score, accuracy_score,confusion_matrix,classification_report\n",
    "import matplotlib.pyplot as plt\n",
    "import seaborn as sns\n",
    "%matplotlib inline\n",
    "\n",
    "# For the model and it's training\n",
    "from sklearn.model_selection import train_test_split\n",
    "from tensorflow.keras.utils import to_categorical\n",
    "from tensorflow.keras.models import Sequential, load_model\n",
    "from tensorflow.keras.layers import Conv2D, MaxPool2D, Dense, Flatten, Dropout, AveragePooling2D\n",
    "import torch\n",
    "from torch.utils.data import DataLoader, TensorDataset\n",
    "import torch.nn as nn\n",
    "from skimage.io import imread, imshow\n",
    "from torchvision.transforms import v2\n",
    "from PIL import Image\n",
    "from pathlib import Path\n",
    "import random\n",
    "# Time\n",
    "import time\n",
    "import datetime\n",
    "import tensorflow as tf\n"
   ]
  },
  {
   "cell_type": "markdown",
   "id": "082f7126-7469-4b37-9023-6b66d4af9236",
   "metadata": {},
   "source": [
    "# Загружаем данные"
   ]
  },
  {
   "cell_type": "code",
   "execution_count": 2,
   "id": "af628eb5-4679-4f3e-9483-c36693acc29f",
   "metadata": {},
   "outputs": [
    {
     "name": "stderr",
     "output_type": "stream",
     "text": [
      "C:\\Users\\fedbe\\AppData\\Local\\Programs\\Python\\Python311\\Lib\\site-packages\\tqdm\\auto.py:21: TqdmWarning: IProgress not found. Please update jupyter and ipywidgets. See https://ipywidgets.readthedocs.io/en/stable/user_install.html\n",
      "  from .autonotebook import tqdm as notebook_tqdm\n"
     ]
    },
    {
     "name": "stdout",
     "output_type": "stream",
     "text": [
      "Warning: Looks like you're using an outdated `kagglehub` version, please consider updating (latest version: 0.3.4)\n",
      "Path to dataset files: C:\\Users\\fedbe\\.cache\\kagglehub\\datasets\\meowmeowmeowmeowmeow\\gtsrb-german-traffic-sign\\versions\\1\n"
     ]
    }
   ],
   "source": [
    "import kagglehub\n",
    "\n",
    "# Download latest version\n",
    "path = kagglehub.dataset_download(\"meowmeowmeowmeowmeow/gtsrb-german-traffic-sign\")\n",
    "\n",
    "print(\"Path to dataset files:\", path)"
   ]
  },
  {
   "cell_type": "code",
   "execution_count": 3,
   "id": "796bfb33-72a5-4b33-9784-d9d4cd2bfa74",
   "metadata": {},
   "outputs": [],
   "source": [
    "data = []\n",
    "labels = []\n",
    "classes = 43\n",
    "\n",
    "# Retrieving the images and their labels \n",
    "for i in range(classes):\n",
    "    path = os.path.join('C:/Users/fedbe/.cache/kagglehub/datasets/meowmeowmeowmeowmeow/gtsrb-german-traffic-sign/versions/1','Train',str(i))\n",
    "    images = os.listdir(path)\n",
    "\n",
    "    for a in images:\n",
    "        try:\n",
    "            image = Image.open(path + '/'+ a)\n",
    "            image = image.resize((32,32))\n",
    "            image = np.array(image)\n",
    "            #sim = Image.fromarray(image)\n",
    "            data.append(image)\n",
    "            labels.append(i)\n",
    "        except:\n",
    "            print(\"Error loading image\")\n",
    "\n",
    "# Converting lists into numpy arrays\n",
    "data = np.array(data)\n",
    "labels = np.array(labels)"
   ]
  },
  {
   "cell_type": "code",
   "execution_count": null,
   "id": "7293b887-8b67-4574-8419-9918a21f3ecc",
   "metadata": {},
   "outputs": [],
   "source": []
  },
  {
   "cell_type": "markdown",
   "id": "12d89f7b-71d6-449f-aa3a-7266b7e612fb",
   "metadata": {},
   "source": [
    "# EDA"
   ]
  },
  {
   "cell_type": "code",
   "execution_count": 4,
   "id": "d7505377-3f50-4323-8662-daafc75e5782",
   "metadata": {},
   "outputs": [
    {
     "data": {
      "text/plain": [
       "(array([ 210., 2220., 2250., 1410., 1980., 1860.,  420., 1440., 1410.,\n",
       "        1470., 2010., 1320., 2100., 2160.,  780.,  630.,  420., 1110.,\n",
       "        1200.,  210.,  360.,  330.,  390.,  510.,  270., 1500.,  600.,\n",
       "         240.,  540.,  270.,  450.,  780.,  240.,  689.,  420., 1200.,\n",
       "         390.,  210., 2070.,  300.,  360.,  240.,  240.]),\n",
       " array([ 0.,  1.,  2.,  3.,  4.,  5.,  6.,  7.,  8.,  9., 10., 11., 12.,\n",
       "        13., 14., 15., 16., 17., 18., 19., 20., 21., 22., 23., 24., 25.,\n",
       "        26., 27., 28., 29., 30., 31., 32., 33., 34., 35., 36., 37., 38.,\n",
       "        39., 40., 41., 42., 43.]),\n",
       " <BarContainer object of 43 artists>)"
      ]
     },
     "execution_count": 4,
     "metadata": {},
     "output_type": "execute_result"
    },
    {
     "data": {
      "image/png": "[encoded data removed]",
      "text/plain": [
       "<Figure size 640x480 with 1 Axes>"
      ]
     },
     "metadata": {},
     "output_type": "display_data"
    }
   ],
   "source": [
    "plt.hist(labels,np.arange(0,44))"
   ]
  },
  {
   "cell_type": "code",
   "execution_count": null,
   "id": "c66c8d30-b81d-4e29-b841-0a8d81f1ba53",
   "metadata": {},
   "outputs": [],
   "source": []
  },
  {
   "cell_type": "code",
   "execution_count": 5,
   "id": "9e6e8b39-19ee-4ea9-b39d-dc51db5e9812",
   "metadata": {},
   "outputs": [],
   "source": [
    "size_aft_aug = 2500\n",
    "classes_num = 43"
   ]
  },
  {
   "cell_type": "code",
   "execution_count": null,
   "id": "624169b3-676c-45de-839a-c5d869658752",
   "metadata": {},
   "outputs": [],
   "source": []
  },
  {
   "cell_type": "code",
   "execution_count": 6,
   "id": "c1967436-3aab-46e6-9524-66d8a87a436b",
   "metadata": {},
   "outputs": [],
   "source": [
    "data_train, data_test, lab_train, lab_test = train_test_split(data, labels, test_size=0.2, random_state=42)"
   ]
  },
  {
   "cell_type": "code",
   "execution_count": 7,
   "id": "17366288-3c75-46eb-8bdc-aaf4d825bb73",
   "metadata": {},
   "outputs": [],
   "source": [
    "data_aug = np.zeros([size_aft_aug*classes_num, 32, 32, 3])\n",
    "labels_aug = np.zeros([size_aft_aug*classes_num])"
   ]
  },
  {
   "cell_type": "code",
   "execution_count": 8,
   "id": "208b5f2f-f05d-4cec-ba6b-9fd29dcffdb3",
   "metadata": {},
   "outputs": [],
   "source": [
    "#data_aug[0:data.shape[0]] = data"
   ]
  },
  {
   "cell_type": "code",
   "execution_count": 9,
   "id": "1db6ea29-a2a3-4fe4-b881-66a50b26afed",
   "metadata": {},
   "outputs": [
    {
     "data": {
      "text/plain": [
       "(107500, 32, 32, 3)"
      ]
     },
     "execution_count": 9,
     "metadata": {},
     "output_type": "execute_result"
    }
   ],
   "source": [
    "data_aug.shape"
   ]
  },
  {
   "cell_type": "code",
   "execution_count": 10,
   "id": "df7eac36-e4e8-4cbc-876d-7a9dc6353716",
   "metadata": {},
   "outputs": [],
   "source": [
    "def augmentation(data, out_num, transforms):\n",
    "    res_data = np.zeros([out_num, data.shape[1], data.shape[2], data.shape[3]])\n",
    "    #res_labels = np.zeros([out_num])\n",
    "    res_data[0:data.shape[0]] = data\n",
    "    #res_labels[0:labels.shape[0]] = labels\n",
    "\n",
    "    for i in range(data.shape[0], out_num):\n",
    "        ind = np.random.randint(0,data.shape[0],size = 1)[0]\n",
    "        #label = labels[ind]\n",
    "        orig_img = data[ind]\n",
    "        orig_img = torch.from_numpy(orig_img)#.float()\n",
    "        orig_img = torch.permute(orig_img, (2, 0, 1))\n",
    "        res_data[i] = torch.permute(transforms(orig_img), (1, 2, 0)).numpy()\n",
    "        #labels[i] = label\n",
    "    return res_data"
   ]
  },
  {
   "cell_type": "code",
   "execution_count": 11,
   "id": "c2a13a1e-4015-4229-8a8d-4cf8555c5cc9",
   "metadata": {},
   "outputs": [],
   "source": [
    "def augmentation(data, out_num, transforms):\n",
    "    res_data = np.zeros([out_num, data.shape[1], data.shape[2], data.shape[3]])\n",
    "    #res_labels = np.zeros([out_num])\n",
    "    res_data[0:data.shape[0]] = data\n",
    "    #res_labels[0:labels.shape[0]] = labels\n",
    "\n",
    "    for i in range(data.shape[0], out_num):\n",
    "        ind = np.random.randint(0,data.shape[0],size = 1)[0]\n",
    "        #label = labels[ind]\n",
    "        orig_img = data[ind]\n",
    "        orig_img = torch.from_numpy(orig_img)#.float()\n",
    "        orig_img = torch.permute(orig_img, (2, 0, 1))\n",
    "        res_data[i] = torch.permute(transforms(orig_img), (1, 2, 0)).numpy()\n",
    "        #labels[i] = label\n",
    "    return res_data"
   ]
  },
  {
   "cell_type": "code",
   "execution_count": 120,
   "id": "0f4f8f93-2e2d-4651-bc69-14f7a3ea36ca",
   "metadata": {},
   "outputs": [],
   "source": [
    "transforms_all = v2.Compose([\n",
    "    v2.RandomAffine(degrees = [-10,10]),\n",
    "    v2.ColorJitter(brightness = [0.9, 1.3], contrast = [0.7, 1.3], saturation = [0.9, 1.3]),\n",
    "])"
   ]
  },
  {
   "cell_type": "code",
   "execution_count": 13,
   "id": "e33d4d66-9309-4aaa-8fd6-05b05709f4d3",
   "metadata": {},
   "outputs": [
    {
     "name": "stdout",
     "output_type": "stream",
     "text": [
      "i =  0\n",
      "i =  1\n",
      "i =  2\n",
      "i =  3\n",
      "i =  4\n",
      "i =  5\n",
      "i =  6\n",
      "i =  7\n",
      "i =  8\n",
      "i =  9\n",
      "i =  10\n",
      "i =  11\n",
      "i =  12\n",
      "i =  13\n",
      "i =  14\n",
      "i =  15\n",
      "i =  16\n",
      "i =  17\n",
      "i =  18\n",
      "i =  19\n",
      "i =  20\n",
      "i =  21\n",
      "i =  22\n",
      "i =  23\n",
      "i =  24\n",
      "i =  25\n",
      "i =  26\n",
      "i =  27\n",
      "i =  28\n",
      "i =  29\n",
      "i =  30\n",
      "i =  31\n",
      "i =  32\n",
      "i =  33\n",
      "i =  34\n",
      "i =  35\n",
      "i =  36\n",
      "i =  37\n",
      "i =  38\n",
      "i =  39\n",
      "i =  40\n",
      "i =  41\n",
      "i =  42\n"
     ]
    }
   ],
   "source": [
    "for i in range(classes_num):\n",
    "    print('i = ',i)\n",
    "    idxs = np.where(lab_train == i)[0]\n",
    "    new_data = augmentation(data_train[idxs], size_aft_aug, transforms_all)\n",
    "    data_aug[i*size_aft_aug:(i+1)*size_aft_aug] = new_data\n",
    "    labels_aug[i*size_aft_aug:(i+1)*size_aft_aug] = i"
   ]
  },
  {
   "cell_type": "code",
   "execution_count": 174,
   "id": "09008073-4dab-492f-86ee-e5813085f5f3",
   "metadata": {},
   "outputs": [
    {
     "data": {
      "text/plain": [
       "(107500, 32, 32, 3)"
      ]
     },
     "execution_count": 174,
     "metadata": {},
     "output_type": "execute_result"
    }
   ],
   "source": [
    "data_aug.shape"
   ]
  },
  {
   "cell_type": "code",
   "execution_count": 175,
   "id": "cb544d07-9edf-43fc-ac00-aee60d3e5a58",
   "metadata": {},
   "outputs": [
    {
     "data": {
      "text/plain": [
       "(39209, 32, 32, 3)"
      ]
     },
     "execution_count": 175,
     "metadata": {},
     "output_type": "execute_result"
    }
   ],
   "source": [
    "data.shape"
   ]
  },
  {
   "cell_type": "markdown",
   "id": "57f97be4-a304-4ff0-b4e0-bb56bf7c4852",
   "metadata": {},
   "source": [
    "# С размытием"
   ]
  },
  {
   "cell_type": "code",
   "execution_count": 100,
   "id": "d74771bd-09eb-4a20-8d09-8ca57543932e",
   "metadata": {},
   "outputs": [],
   "source": [
    "transforms_all2 = v2.Compose([\n",
    "    v2.RandomAffine(degrees = [-10,10]),\n",
    "    v2.ColorJitter(brightness = [0.9, 1.3], contrast = [0.7, 1.3], saturation = [0.9, 1.3]),\n",
    "    v2.GaussianBlur(kernel_size = 3, sigma = 0.6)\n",
    "])"
   ]
  },
  {
   "cell_type": "code",
   "execution_count": 101,
   "id": "e9910c02-d671-4bf8-a9a1-feeb10665b29",
   "metadata": {},
   "outputs": [],
   "source": [
    "data_aug2 = np.zeros([size_aft_aug*classes_num, 32, 32, 3])\n",
    "labels_aug2 = np.zeros([size_aft_aug*classes_num])"
   ]
  },
  {
   "cell_type": "code",
   "execution_count": 102,
   "id": "fc0d0145-8532-497c-b9bf-8ebe57a2dd6e",
   "metadata": {},
   "outputs": [
    {
     "name": "stdout",
     "output_type": "stream",
     "text": [
      "i =  0\n",
      "i =  1\n",
      "i =  2\n",
      "i =  3\n",
      "i =  4\n",
      "i =  5\n",
      "i =  6\n",
      "i =  7\n",
      "i =  8\n",
      "i =  9\n",
      "i =  10\n",
      "i =  11\n",
      "i =  12\n",
      "i =  13\n",
      "i =  14\n",
      "i =  15\n",
      "i =  16\n",
      "i =  17\n",
      "i =  18\n",
      "i =  19\n",
      "i =  20\n",
      "i =  21\n",
      "i =  22\n",
      "i =  23\n",
      "i =  24\n",
      "i =  25\n",
      "i =  26\n",
      "i =  27\n",
      "i =  28\n",
      "i =  29\n",
      "i =  30\n",
      "i =  31\n",
      "i =  32\n",
      "i =  33\n",
      "i =  34\n",
      "i =  35\n",
      "i =  36\n",
      "i =  37\n",
      "i =  38\n",
      "i =  39\n",
      "i =  40\n",
      "i =  41\n",
      "i =  42\n"
     ]
    }
   ],
   "source": [
    "for i in range(classes_num):\n",
    "    print('i = ',i)\n",
    "    idxs = np.where(lab_train == i)[0]\n",
    "    new_data = augmentation(data_train[idxs], size_aft_aug, transforms_all)\n",
    "    data_aug2[i*size_aft_aug:(i+1)*size_aft_aug] = new_data\n",
    "    labels_aug2[i*size_aft_aug:(i+1)*size_aft_aug] = i"
   ]
  },
  {
   "cell_type": "code",
   "execution_count": null,
   "id": "e31d4483-1840-4a16-b4ab-d8284d1fbe59",
   "metadata": {},
   "outputs": [],
   "source": []
  },
  {
   "cell_type": "code",
   "execution_count": 14,
   "id": "28c6e8ca-96d7-42ab-a814-0802b3e4a7b1",
   "metadata": {},
   "outputs": [
    {
     "data": {
      "text/plain": [
       "(array([2500., 2500., 2500., 2500., 2500., 2500., 2500., 2500., 2500.,\n",
       "        2500., 2500., 2500., 2500., 2500., 2500., 2500., 2500., 2500.,\n",
       "        2500., 2500., 2500., 2500., 2500., 2500., 2500., 2500., 2500.,\n",
       "        2500., 2500., 2500., 2500., 2500., 2500., 2500., 2500., 2500.,\n",
       "        2500., 2500., 2500., 2500., 2500., 2500., 2500.]),\n",
       " array([ 0.,  1.,  2.,  3.,  4.,  5.,  6.,  7.,  8.,  9., 10., 11., 12.,\n",
       "        13., 14., 15., 16., 17., 18., 19., 20., 21., 22., 23., 24., 25.,\n",
       "        26., 27., 28., 29., 30., 31., 32., 33., 34., 35., 36., 37., 38.,\n",
       "        39., 40., 41., 42., 43.]),\n",
       " <BarContainer object of 43 artists>)"
      ]
     },
     "execution_count": 14,
     "metadata": {},
     "output_type": "execute_result"
    },
    {
     "data": {
      "image/png": "[encoded data removed]",
      "text/plain": [
       "<Figure size 640x480 with 1 Axes>"
      ]
     },
     "metadata": {},
     "output_type": "display_data"
    }
   ],
   "source": [
    "plt.hist(labels_aug,np.arange(0,44))"
   ]
  },
  {
   "cell_type": "code",
   "execution_count": null,
   "id": "669d2bee-ef8c-4ff5-8ad9-1092263bfe80",
   "metadata": {},
   "outputs": [],
   "source": []
  },
  {
   "cell_type": "code",
   "execution_count": null,
   "id": "58048581-370a-4d5d-88fe-298ba63293f3",
   "metadata": {},
   "outputs": [],
   "source": []
  },
  {
   "cell_type": "markdown",
   "id": "b068ae61-0bff-4158-aad3-923ba52fb06d",
   "metadata": {},
   "source": [
    "## Рассматриваем разные виды аугментации на одной картинке"
   ]
  },
  {
   "cell_type": "code",
   "execution_count": 45,
   "id": "08f03ba4-7c2a-4cb6-a83f-dfe475260a62",
   "metadata": {},
   "outputs": [
    {
     "data": {
      "image/png": "[encoded data removed]",
      "text/plain": [
       "<Figure size 640x480 with 1 Axes>"
      ]
     },
     "metadata": {},
     "output_type": "display_data"
    }
   ],
   "source": [
    "test_image = cv2.imread('./test_image.png')\n",
    "test_image = cv2.cvtColor(test_image, cv2.COLOR_BGR2RGB)\n",
    "imshow(test_image)\n",
    "orig_img = torch.from_numpy(test_image)#.float()\n",
    "orig_img.size()\n",
    "orig_img = torch.permute(orig_img, (2, 0, 1))"
   ]
  },
  {
   "cell_type": "code",
   "execution_count": 121,
   "id": "4e36bfe8-b12e-4fa0-bd5e-e3d9602350c5",
   "metadata": {},
   "outputs": [],
   "source": [
    "import torch\n",
    "from torchvision.transforms import v2\n",
    "\n",
    "H, W = 32, 32\n",
    "img = orig_img\n",
    "\n",
    "transforms = v2.Compose([\n",
    "    #v2.RandomResizedCrop(size=(224, 224), antialias=True),\n",
    "    #v2.RandomRotation(9),\n",
    "    v2.RandomAffine(10),\n",
    "    #v2.GaussianBlur(kernel_size = 3),\n",
    "    #v2.GaussianNoise(),\n",
    "    #v2.ToDtype(torch.float32, scale=True),\n",
    "    #v2.Normalize(mean=[0.485, 0.456, 0.406], std=[0.229, 0.224, 0.225]),\n",
    "])\n"
   ]
  },
  {
   "cell_type": "code",
   "execution_count": null,
   "id": "a368332d-fc64-4c65-b89a-401cb8a3422c",
   "metadata": {},
   "outputs": [],
   "source": [
    "img2 = transforms(img)\n"
   ]
  },
  {
   "cell_type": "code",
   "execution_count": null,
   "id": "b92b1221-66c6-4675-83bb-85847002f6d9",
   "metadata": {},
   "outputs": [],
   "source": [
    "\n",
    "img3 = torch.permute(img2, (1,2,0))\n",
    "imshow(img3.numpy())"
   ]
  },
  {
   "cell_type": "code",
   "execution_count": 21,
   "id": "5535b7a2-5a28-4a9f-a464-d354de1a5e42",
   "metadata": {},
   "outputs": [
    {
     "data": {
      "text/plain": [
       "<matplotlib.image.AxesImage at 0x18769fd8e10>"
      ]
     },
     "execution_count": 21,
     "metadata": {},
     "output_type": "execute_result"
    },
    {
     "data": {
      "image/png": "[encoded data removed]",
      "text/plain": [
       "<Figure size 640x480 with 1 Axes>"
      ]
     },
     "metadata": {},
     "output_type": "display_data"
    }
   ],
   "source": [
    "img4 = v2.functional.adjust_brightness(img2,1.3)\n",
    "img4 = torch.permute(img4, (1,2,0))\n",
    "imshow(img4.numpy())"
   ]
  },
  {
   "cell_type": "code",
   "execution_count": 22,
   "id": "d84406bb-1fb7-4a1d-b817-4c590755623b",
   "metadata": {},
   "outputs": [
    {
     "data": {
      "text/plain": [
       "<matplotlib.image.AxesImage at 0x18762ddbf90>"
      ]
     },
     "execution_count": 22,
     "metadata": {},
     "output_type": "execute_result"
    },
    {
     "data": {
      "image/png": "[encoded data removed]",
      "text/plain": [
       "<Figure size 640x480 with 1 Axes>"
      ]
     },
     "metadata": {},
     "output_type": "display_data"
    }
   ],
   "source": [
    "img4 = v2.functional.adjust_contrast(img2,1.7)\n",
    "img4 = torch.permute(img4, (1,2,0))\n",
    "imshow(img4.numpy())"
   ]
  },
  {
   "cell_type": "code",
   "execution_count": 23,
   "id": "0799d777-2b4a-4750-9fa6-de0855c283d0",
   "metadata": {},
   "outputs": [
    {
     "data": {
      "text/plain": [
       "<matplotlib.image.AxesImage at 0x18762e555d0>"
      ]
     },
     "execution_count": 23,
     "metadata": {},
     "output_type": "execute_result"
    },
    {
     "data": {
      "image/png": "[encoded data removed]",
      "text/plain": [
       "<Figure size 640x480 with 1 Axes>"
      ]
     },
     "metadata": {},
     "output_type": "display_data"
    }
   ],
   "source": [
    "img4 = v2.functional.adjust_saturation(img2,1.7)\n",
    "img4 = torch.permute(img4, (1,2,0))\n",
    "imshow(img4.numpy())"
   ]
  },
  {
   "cell_type": "code",
   "execution_count": 24,
   "id": "0e65bff8-a896-4055-b84b-1f211db27394",
   "metadata": {},
   "outputs": [
    {
     "data": {
      "text/plain": [
       "<matplotlib.image.AxesImage at 0x18765e39f50>"
      ]
     },
     "execution_count": 24,
     "metadata": {},
     "output_type": "execute_result"
    },
    {
     "data": {
      "image/png": "[encoded data removed]",
      "text/plain": [
       "<Figure size 640x480 with 1 Axes>"
      ]
     },
     "metadata": {},
     "output_type": "display_data"
    }
   ],
   "source": [
    "img4 = v2.functional.adjust_hue(img2,0.07)\n",
    "img4 = torch.permute(img4, (1,2,0))\n",
    "imshow(img4.numpy())"
   ]
  },
  {
   "cell_type": "code",
   "execution_count": 99,
   "id": "cc94d5cf-5f1b-478f-b7ce-6ce9837e4340",
   "metadata": {},
   "outputs": [
    {
     "data": {
      "text/plain": [
       "<matplotlib.image.AxesImage at 0x23c55eea510>"
      ]
     },
     "execution_count": 99,
     "metadata": {},
     "output_type": "execute_result"
    },
    {
     "data": {
      "image/png": "[encoded data removed]",
      "text/plain": [
       "<Figure size 640x480 with 1 Axes>"
      ]
     },
     "metadata": {},
     "output_type": "display_data"
    }
   ],
   "source": [
    "tr = v2.GaussianBlur(kernel_size = 3, sigma = 0.6)\n",
    "img5 = tr(img2)\n",
    "img5 = torch.permute(img5, (1,2,0))\n",
    "imshow(img5.numpy())"
   ]
  },
  {
   "cell_type": "code",
   "execution_count": 74,
   "id": "a215ea0a-2fed-472e-b6b8-ca49f5b408ef",
   "metadata": {},
   "outputs": [
    {
     "data": {
      "text/plain": [
       "<matplotlib.image.AxesImage at 0x23c560be710>"
      ]
     },
     "execution_count": 74,
     "metadata": {},
     "output_type": "execute_result"
    },
    {
     "data": {
      "image/png": "[encoded data removed]",
      "text/plain": [
       "<Figure size 640x480 with 1 Axes>"
      ]
     },
     "metadata": {},
     "output_type": "display_data"
    }
   ],
   "source": [
    "imshow(torch.permute(img2, (1,2,0)).numpy())"
   ]
  },
  {
   "cell_type": "code",
   "execution_count": null,
   "id": "20fba0f5-2521-49f2-ba34-2c62c2dc7846",
   "metadata": {},
   "outputs": [],
   "source": []
  },
  {
   "cell_type": "markdown",
   "id": "56d789f8-01c3-464b-8b1b-a38aaa731e2b",
   "metadata": {},
   "source": [
    "# Далее рассмотрим несколько моделей"
   ]
  },
  {
   "cell_type": "code",
   "execution_count": 25,
   "id": "6ebbcafb-bb98-420b-8676-a072c682218a",
   "metadata": {},
   "outputs": [],
   "source": [
    "def vis_history(acc_train_all, loss_train_all, acc_test_all, loss_test_all):\n",
    "    fig = plt.figure(figsize=(16, 4))\n",
    "\n",
    "    plt.subplot(1, 2, 1)\n",
    "\n",
    "    plt.plot(loss_train_all, label='loss')\n",
    "    plt.plot(loss_test_all, label='val_loss')\n",
    "\n",
    "    plt.legend()\n",
    "\n",
    "    plt.subplot(1, 2, 2)\n",
    "    plt.plot(acc_train_all, label='acc')\n",
    "    plt.plot(acc_test_all, label='val_acc')\n",
    "\n",
    "    plt.legend()\n",
    "    plt.show()"
   ]
  },
  {
   "cell_type": "code",
   "execution_count": 26,
   "id": "6a5e57a7-1af3-4748-8250-be907bebbb2b",
   "metadata": {},
   "outputs": [],
   "source": [
    "def init_weights(m):\n",
    "    if type(m) == torch.nn.Linear:\n",
    "        torch.nn.init.kaiming_normal_(m.weight)\n",
    "        m.bias.data.fill_(0.01)"
   ]
  },
  {
   "cell_type": "code",
   "execution_count": 3,
   "id": "014926f5-e910-4b00-a04f-3c26312ba52a",
   "metadata": {},
   "outputs": [],
   "source": [
    "\n",
    "\n",
    "class Model_LeNet5_0(torch.nn.Module):\n",
    "    def __init__(self, num_classes=43, inp_shape = 32, hidden_size = 84):\n",
    "        super(Model_LeNet5_0, self).__init__()\n",
    "        n_ch = 3\n",
    "        n_filt_1 = 6\n",
    "        n_filt_2 = 16\n",
    "\n",
    "        kernel_size_1 = 5\n",
    "        kernel_size_2 = 5\n",
    "\n",
    "        self.conv1 = nn.Conv2d(n_ch, n_filt_1, kernel_size=kernel_size_1, stride=1, padding=0)\n",
    "        n_ch = n_filt_1\n",
    "        im_len = inp_shape - kernel_size_1 + 1\n",
    "        self.pool1 = nn.AvgPool2d(kernel_size=2, stride=2) \n",
    "        im_len = im_len / 2\n",
    "        self.conv2 = nn.Conv2d(n_ch, n_filt_2, kernel_size=kernel_size_2, stride=1, padding=0) \n",
    "        n_ch = n_filt_2\n",
    "        im_len = im_len - kernel_size_2 + 1\n",
    "\n",
    "\n",
    "        self.pool2 = nn.AvgPool2d(kernel_size=2, stride=2) \n",
    "        im_len = im_len / 2\n",
    "\n",
    "        if im_len != int(im_len):\n",
    "            print('shape error:', im_len)\n",
    "            return\n",
    "        print(im_len)\n",
    "        self.inp_fc_size = int(im_len * im_len) * n_filt_2\n",
    "        self.fc1 = nn.Linear(self.inp_fc_size, hidden_size)  \n",
    "        self.fc3 = nn.Linear(hidden_size, num_classes)\n",
    "\n",
    "\n",
    "    def forward(self, x):\n",
    "\n",
    "        x = self.conv1(x)\n",
    "\n",
    "        x = torch.relu(x)  \n",
    "        x = self.pool1(x)\n",
    "\n",
    "        x = self.conv2(x)\n",
    "\n",
    "        x = torch.relu(x)  \n",
    "        x = self.pool2(x)  \n",
    "\n",
    "        x = x.view(-1, self.inp_fc_size)  \n",
    "        x = self.fc1(x)\n",
    "        x = torch.relu(x)  \n",
    "        x = self.fc3(x) \n",
    "\n",
    "        return x\n",
    "    def batch_train(self,optimizer, x, y):\n",
    "        y_pred = self(x)\n",
    "\n",
    "        loss = loss_fn(y_pred, y)\n",
    "        self.zero_grad()\n",
    "        loss.backward()\n",
    "        optimizer.step()\n",
    "        return (loss.item())\n",
    "        \n",
    "    def fit(self,n_epochs, learning_rate, train_loader, test_loader):\n",
    "        acc_train_all = []\n",
    "        loss_train_all = []\n",
    "        acc_test_all = []\n",
    "        loss_test_all = []\n",
    "        optimizerAdam = torch.optim.Adam(self.parameters(), lr=0.001)\n",
    "        scheduler = torch.optim.lr_scheduler.CyclicLR(optimizerAdam, base_lr=0.001, max_lr=0.01)\n",
    "\n",
    "\n",
    "        for epoch in range(n_epochs):\n",
    "            self.train()\n",
    "\n",
    "            #permutation = torch.randperm(X.size()[0])\n",
    "            acc_train = 0\n",
    "            loss_train = 0\n",
    "            acc_test = 0\n",
    "            loss_test = 0\n",
    "            for images, labels in train_loader:\n",
    "                #print(images.size())\n",
    "\n",
    "                self.batch_train(optimizerAdam, images, labels)\n",
    "                scheduler.step()\n",
    "\n",
    "            self.eval()\n",
    "            for images, labels in train_loader:\n",
    "                y_train_pred = self(images)\n",
    "                acc_train += accuracy_score(labels, y_train_pred.argmax(dim=1))\n",
    "                loss_train += loss_fn(y_train_pred, labels).detach()\n",
    "                \n",
    "            for images, labels in test_loader:\n",
    "                y_test_pred = self(images)\n",
    "                acc_test += accuracy_score(labels, y_test_pred.argmax(dim=1))\n",
    "                loss_test += loss_fn(y_test_pred, labels).detach()\n",
    "\n",
    "            acc_train_all = np.append(acc_train_all, acc_train / len(train_loader))\n",
    "            loss_train_all = np.append(loss_train_all, loss_train / len(train_loader))\n",
    "            acc_test_all = np.append(acc_test_all, acc_test / len(test_loader))\n",
    "            loss_test_all = np.append(loss_test_all, loss_test / len(test_loader))\n",
    "            \n",
    "\n",
    "            print(f'Epoch {epoch}: \\n Accuracy - train: {acc_train / len(train_loader)} | test: {acc_test / len(test_loader)} \\n Loss - train: {loss_train / len(train_loader)} | test: {loss_test / len(test_loader)}')\n",
    "\n",
    "        return(acc_train_all, loss_train_all, acc_test_all, loss_test_all)\n",
    "        "
   ]
  },
  {
   "cell_type": "code",
   "execution_count": 4,
   "id": "73016dcd-89f9-489c-b623-825eeee80593",
   "metadata": {},
   "outputs": [],
   "source": [
    "\n",
    "\n",
    "class Model_Big(torch.nn.Module):\n",
    "    def __init__(self, num_classes=43, inp_shape = 32, hidden_1_size = 1000,hidden_2_size = 512):\n",
    "        super(Model_Big, self).__init__()\n",
    "        n_ch = 3\n",
    "        n_filt_1 = 32\n",
    "        n_filt_2 = 64\n",
    "        n_filt_3 =128\n",
    "        n_filt_4 = 256\n",
    "        kernel_size_1 = 5\n",
    "        kernel_size_2 = 5\n",
    "        kernel_size_3 = 3\n",
    "        kernel_size_4 = 3\n",
    "        self.conv1 = nn.Conv2d(n_ch, n_filt_1, kernel_size=kernel_size_1, stride=1, padding=0)\n",
    "        n_ch = n_filt_1\n",
    "        im_len = inp_shape - kernel_size_1 + 1\n",
    "        \n",
    "        self.conv2 = nn.Conv2d(n_ch, n_filt_2, kernel_size=kernel_size_2, stride=1, padding=0) \n",
    "        n_ch = n_filt_2\n",
    "        im_len = im_len - kernel_size_2 + 1\n",
    "\n",
    "        self.pool1 = nn.MaxPool2d(kernel_size=2, stride=2) \n",
    "        im_len = im_len / 2\n",
    "        \n",
    "        self.dropout1 = nn.Dropout(p=0.1)\n",
    "        \n",
    "        #self.conv5 = nn.Conv2d(n_ch, n_filt_5, kernel_size=kernel_size_5, stride=1, padding=0) \n",
    "        #n_ch = n_filt_5\n",
    "        #im_len = im_len - kernel_size_5 + 1\n",
    "\n",
    "        self.conv3 = nn.Conv2d(n_ch, n_filt_3, kernel_size=kernel_size_3, stride=1, padding=0)\n",
    "        n_ch = n_filt_3\n",
    "        im_len = im_len - kernel_size_3 + 1\n",
    "        \n",
    "        self.conv4 = nn.Conv2d(n_ch, n_filt_4, kernel_size=kernel_size_4, stride=1, padding=0) \n",
    "        n_ch = n_filt_4\n",
    "        im_len = im_len - kernel_size_4 + 1\n",
    "\n",
    "        self.pool2 = nn.MaxPool2d(kernel_size=2, stride=2) \n",
    "        im_len = im_len / 2\n",
    "        \n",
    "        self.dropout2 = nn.Dropout(p=0.2)   \n",
    "\n",
    "        \n",
    "        if im_len != int(im_len):\n",
    "            print('shape error:', im_len)\n",
    "            return\n",
    "        self.inp_fc_size = int(im_len * im_len) * n_filt_4\n",
    "        self.fc1 = nn.Linear(self.inp_fc_size, hidden_1_size) \n",
    "        self.fc2 = nn.Linear(hidden_1_size, hidden_2_size) \n",
    "\n",
    "        self.fc3 = nn.Linear(hidden_2_size, num_classes)\n",
    "\n",
    "\n",
    "    def forward(self, x):\n",
    "        x = self.conv1(x)\n",
    "        x = torch.relu(x)  \n",
    "        x = self.conv2(x)\n",
    "        x = torch.relu(x)  \n",
    "        x = self.pool1(x)\n",
    "        x = self.dropout1(x)\n",
    "\n",
    "        x = self.conv3(x)\n",
    "        x = torch.relu(x)    \n",
    "        x = self.conv4(x)\n",
    "        x = torch.relu(x) \n",
    "        x = self.pool2(x)  \n",
    "        x = self.dropout2(x)\n",
    "\n",
    "\n",
    "        x = x.view(-1, self.inp_fc_size)  \n",
    "        x = self.fc1(x)\n",
    "        x = torch.relu(x)  \n",
    "        \n",
    "        x = self.fc2(x)\n",
    "        x = torch.relu(x)\n",
    "        \n",
    "        x = self.fc3(x) \n",
    "\n",
    "        return x\n",
    "    def batch_train(self, optimizer, x, y):\n",
    "        y_pred = self(x)\n",
    "       # print(f'y_pred: {y_pred}')\n",
    "        #print(f'y: {y}')\n",
    "\n",
    "        loss = loss_fn(y_pred, y)\n",
    "        self.zero_grad()\n",
    "        loss.backward()\n",
    "        optimizer.step()\n",
    "        return (loss.item())\n",
    "        \n",
    "    def fit(self, n_epochs, learning_rate, train_loader, test_loader):\n",
    "        acc_train_all = []\n",
    "        loss_train_all = []\n",
    "        acc_test_all = []\n",
    "        loss_test_all = []\n",
    "        optimizerAdam = torch.optim.Adam(self.parameters(), lr=0.001)\n",
    "\n",
    "\n",
    "\n",
    "        for epoch in range(n_epochs):\n",
    "            self.train()\n",
    "\n",
    "            acc_train = 0\n",
    "            loss_train = 0\n",
    "            acc_test = 0\n",
    "            loss_test = 0\n",
    "            \n",
    "            for images, labels in train_loader:\n",
    "                self.batch_train(optimizerAdam, images, labels)\n",
    "                \n",
    "            self.eval()\n",
    "            for images, labels in train_loader:\n",
    "                y_train_pred = self(images)\n",
    "                acc_train += accuracy_score(labels, y_train_pred.argmax(dim=1))\n",
    "                loss_train += loss_fn(y_train_pred, labels).detach()\n",
    "                \n",
    "            for images, labels in test_loader:\n",
    "                y_test_pred = self(images)\n",
    "                acc_test += accuracy_score(labels, y_test_pred.argmax(dim=1))\n",
    "                loss_test += loss_fn(y_test_pred, labels).detach()\n",
    "\n",
    "            acc_train_all = np.append(acc_train_all, acc_train / len(train_loader))\n",
    "            loss_train_all = np.append(loss_train_all, loss_train / len(train_loader))\n",
    "            acc_test_all = np.append(acc_test_all, acc_test / len(test_loader))\n",
    "            loss_test_all = np.append(loss_test_all, loss_test / len(test_loader))\n",
    "\n",
    "            print(f'Epoch {epoch}: \\n Accuracy - train: {acc_train / len(train_loader)} | test: {acc_test / len(test_loader)} \\n Loss - train: {loss_train / len(train_loader)} | test: {loss_test / len(test_loader)}')\n",
    "\n",
    "        return(acc_train_all, loss_train_all, acc_test_all, loss_test_all)\n",
    "        "
   ]
  },
  {
   "cell_type": "code",
   "execution_count": 18,
   "id": "58d6f6f9-76b7-4dff-9776-f0afac10d4c9",
   "metadata": {},
   "outputs": [
    {
     "data": {
      "text/plain": [
       "(39209, 32, 32, 3)"
      ]
     },
     "execution_count": 18,
     "metadata": {},
     "output_type": "execute_result"
    }
   ],
   "source": [
    "data.shape"
   ]
  },
  {
   "cell_type": "code",
   "execution_count": null,
   "id": "be112edb-64ca-44b3-a856-58874f406259",
   "metadata": {},
   "outputs": [],
   "source": []
  },
  {
   "cell_type": "code",
   "execution_count": 16,
   "id": "067818d9-9d3b-43d8-a298-06508075cd40",
   "metadata": {},
   "outputs": [],
   "source": [
    "X_train, X_test, y_train, y_test = train_test_split(data_aug, labels_aug, test_size=0.2, random_state=42)"
   ]
  },
  {
   "cell_type": "code",
   "execution_count": 103,
   "id": "31d61070-c511-4af3-9012-5ed4e8c4b125",
   "metadata": {},
   "outputs": [],
   "source": [
    "X_train2, X_test2, y_train2, y_test2 = train_test_split(data_aug2, labels_aug2, test_size=0.2, random_state=42)"
   ]
  },
  {
   "cell_type": "code",
   "execution_count": 17,
   "id": "99f39921-6cf3-405e-8b0d-8488f72d1524",
   "metadata": {},
   "outputs": [
    {
     "data": {
      "text/plain": [
       "(array([1975., 2016., 1991., 1988., 2002., 1986., 1992., 2005., 2005.,\n",
       "        1998., 2022., 1979., 2023., 2009., 1993., 1974., 1997., 1980.,\n",
       "        1969., 2005., 2005., 1977., 2004., 2047., 1995., 1976., 1989.,\n",
       "        2032., 1990., 2036., 1989., 2018., 1965., 1987., 2007., 2029.,\n",
       "        2026., 2017., 1982., 2000., 1971., 2030., 2019.]),\n",
       " array([ 0.,  1.,  2.,  3.,  4.,  5.,  6.,  7.,  8.,  9., 10., 11., 12.,\n",
       "        13., 14., 15., 16., 17., 18., 19., 20., 21., 22., 23., 24., 25.,\n",
       "        26., 27., 28., 29., 30., 31., 32., 33., 34., 35., 36., 37., 38.,\n",
       "        39., 40., 41., 42., 43.]),\n",
       " <BarContainer object of 43 artists>)"
      ]
     },
     "execution_count": 17,
     "metadata": {},
     "output_type": "execute_result"
    },
    {
     "data": {
      "image/png": "[encoded data removed]",
      "text/plain": [
       "<Figure size 640x480 with 1 Axes>"
      ]
     },
     "metadata": {},
     "output_type": "display_data"
    }
   ],
   "source": [
    "plt.hist(y_train,np.arange(0,44))"
   ]
  },
  {
   "cell_type": "code",
   "execution_count": null,
   "id": "62dc6dbd-f714-4cee-af4a-1a931555c4f4",
   "metadata": {},
   "outputs": [],
   "source": []
  },
  {
   "cell_type": "code",
   "execution_count": 18,
   "id": "6347d9f9-90e3-4d9d-b67c-95af6e46817f",
   "metadata": {},
   "outputs": [],
   "source": [
    "X_train = np.transpose(X_train, (0, 3, 1, 2))\n",
    "X_test = np.transpose(X_test, (0, 3, 1, 2))"
   ]
  },
  {
   "cell_type": "code",
   "execution_count": 19,
   "id": "45adf3cb-2f24-4642-b9bb-48328e9d0770",
   "metadata": {},
   "outputs": [
    {
     "data": {
      "text/plain": [
       "(86000, 3, 32, 32)"
      ]
     },
     "execution_count": 19,
     "metadata": {},
     "output_type": "execute_result"
    }
   ],
   "source": [
    "X_train.shape"
   ]
  },
  {
   "cell_type": "code",
   "execution_count": 20,
   "id": "b37c29c7-2a89-471c-9c3a-1c3da8b035df",
   "metadata": {},
   "outputs": [],
   "source": [
    "train_dataset = TensorDataset(torch.from_numpy(X_train[:45000]).float(), torch.LongTensor(y_train[:45000]))"
   ]
  },
  {
   "cell_type": "code",
   "execution_count": 21,
   "id": "af8d18b9-0922-433d-857f-0c664b9f1de1",
   "metadata": {},
   "outputs": [],
   "source": [
    "test_dataset = TensorDataset(torch.from_numpy(X_test[:5000]).float(), torch.LongTensor(y_test[:5000]))"
   ]
  },
  {
   "cell_type": "code",
   "execution_count": null,
   "id": "a0dcc89e-90d9-4e69-849f-219ffab542d2",
   "metadata": {},
   "outputs": [],
   "source": []
  },
  {
   "cell_type": "code",
   "execution_count": 22,
   "id": "6e332bfa-738c-4f09-a8aa-295a8d3a2c8b",
   "metadata": {},
   "outputs": [],
   "source": [
    "batch_size = 60\n",
    "\n",
    "train_loader = DataLoader(dataset=train_dataset, batch_size=batch_size, shuffle=True)\n",
    "test_loader = DataLoader(dataset=test_dataset, batch_size=90, shuffle=False)"
   ]
  },
  {
   "cell_type": "code",
   "execution_count": 6,
   "id": "53d54d45-8e9e-42eb-8588-83622eedb403",
   "metadata": {},
   "outputs": [],
   "source": [
    "n_epochs = 10\n",
    "learning_rate = 0.001\n",
    "\n",
    "loss_fn = torch.nn.CrossEntropyLoss()"
   ]
  },
  {
   "cell_type": "markdown",
   "id": "9b96966b-e1cd-4155-aabe-0742e5dd1c08",
   "metadata": {},
   "source": [
    "# Рассмотрим модель с большим числом сверток"
   ]
  },
  {
   "cell_type": "markdown",
   "id": "098ee989-0658-4127-b841-4ff24a766299",
   "metadata": {},
   "source": [
    "# Есть проблема с графиками loss и accuracy. Они на каждой эпохе получаются очень хорошими, даже для откровенно плохих моделей. Это должно быть связано с методом подсчета метрик, но я не могу найти ошибку."
   ]
  },
  {
   "cell_type": "code",
   "execution_count": null,
   "id": "fa7d5745-94e5-428e-bb7f-d1ff03b5d6c0",
   "metadata": {},
   "outputs": [],
   "source": []
  },
  {
   "cell_type": "code",
   "execution_count": 310,
   "id": "23d76fba-f6aa-4f4d-a5bb-2c82c8e4c4cb",
   "metadata": {},
   "outputs": [],
   "source": [
    "n_epochs = 4\n",
    "\n",
    "model_big = Model_Big()\n",
    "model_big = model_big.apply(init_weights)"
   ]
  },
  {
   "cell_type": "code",
   "execution_count": 311,
   "id": "34eec09a-9bfb-4a6d-866d-689b3968aa89",
   "metadata": {},
   "outputs": [
    {
     "name": "stdout",
     "output_type": "stream",
     "text": [
      "Epoch 0: \n",
      " Accuracy - train: 0.9734888888888911 | test: 0.9694841269841262 \n",
      " Loss - train: 0.10129319131374359 | test: 0.1129886731505394\n",
      "Epoch 1: \n",
      " Accuracy - train: 0.9875333333333369 | test: 0.9824206349206345 \n",
      " Loss - train: 0.05084238573908806 | test: 0.07946272194385529\n",
      "Epoch 2: \n",
      " Accuracy - train: 0.9815555555555587 | test: 0.9788492063492059 \n",
      " Loss - train: 0.06460808962583542 | test: 0.07387131452560425\n",
      "Epoch 3: \n",
      " Accuracy - train: 0.9925555555555575 | test: 0.9880952380952371 \n",
      " Loss - train: 0.026712710037827492 | test: 0.04162951931357384\n"
     ]
    }
   ],
   "source": [
    "acc_train_big, loss_train_all_big, acc_test_all_big, loss_test_all_big = model_big.fit(n_epochs, learning_rate, train_loader, test_loader)"
   ]
  },
  {
   "cell_type": "code",
   "execution_count": 312,
   "id": "5a542f52-4eb9-4ac2-b473-72dab99dd99d",
   "metadata": {},
   "outputs": [
    {
     "data": {
      "image/png": "[encoded data removed]",
      "text/plain": [
       "<Figure size 1600x400 with 2 Axes>"
      ]
     },
     "metadata": {},
     "output_type": "display_data"
    }
   ],
   "source": [
    "vis_history(acc_train_big, loss_train_all_big, acc_test_all_big, loss_test_all_big)"
   ]
  },
  {
   "cell_type": "markdown",
   "id": "04b88a64-0954-4673-817e-5ad65b296c00",
   "metadata": {},
   "source": [
    "# Считаем метрики на всех тестовых данных"
   ]
  },
  {
   "cell_type": "code",
   "execution_count": 314,
   "id": "64883ad8-09c7-4e24-a573-2f98c7b8df17",
   "metadata": {},
   "outputs": [],
   "source": [
    "X_test_torch = torch.from_numpy(X_test).float()\n",
    "pred_b = [np.argmax(np.abs(model_big((X_test_torch)[i]).detach().numpy())) for i in range(len(X_test_torch))]"
   ]
  },
  {
   "cell_type": "code",
   "execution_count": 315,
   "id": "8fff1d4a-c217-467f-913a-b9f4cc8938a9",
   "metadata": {},
   "outputs": [
    {
     "name": "stdout",
     "output_type": "stream",
     "text": [
      "              precision    recall  f1-score   support\n",
      "\n",
      "         0.0       0.99      0.99      0.99       525\n",
      "         1.0       0.97      0.95      0.96       484\n",
      "         2.0       0.94      0.96      0.95       509\n",
      "         3.0       0.99      0.94      0.97       512\n",
      "         4.0       0.97      0.99      0.98       498\n",
      "         5.0       0.98      0.85      0.91       514\n",
      "         6.0       0.98      0.92      0.95       508\n",
      "         7.0       0.96      0.95      0.96       495\n",
      "         8.0       0.98      0.99      0.98       495\n",
      "         9.0       1.00      0.98      0.99       502\n",
      "        10.0       0.99      0.99      0.99       478\n",
      "        11.0       0.99      0.98      0.99       521\n",
      "        12.0       0.99      0.99      0.99       477\n",
      "        13.0       1.00      1.00      1.00       491\n",
      "        14.0       1.00      0.99      1.00       507\n",
      "        15.0       0.99      1.00      1.00       526\n",
      "        16.0       0.99      1.00      0.99       503\n",
      "        17.0       0.99      1.00      1.00       520\n",
      "        18.0       0.99      0.99      0.99       531\n",
      "        19.0       1.00      1.00      1.00       495\n",
      "        20.0       0.99      0.99      0.99       495\n",
      "        21.0       0.95      0.98      0.97       523\n",
      "        22.0       0.78      1.00      0.88       496\n",
      "        23.0       0.99      0.99      0.99       453\n",
      "        24.0       0.94      1.00      0.97       505\n",
      "        25.0       1.00      0.99      0.99       524\n",
      "        26.0       0.99      0.99      0.99       511\n",
      "        27.0       0.99      1.00      1.00       468\n",
      "        28.0       1.00      0.97      0.99       510\n",
      "        29.0       1.00      0.97      0.98       464\n",
      "        30.0       0.99      0.97      0.98       511\n",
      "        31.0       1.00      0.94      0.96       482\n",
      "        32.0       1.00      1.00      1.00       535\n",
      "        33.0       0.99      0.99      0.99       513\n",
      "        34.0       1.00      0.99      0.99       493\n",
      "        35.0       1.00      0.99      0.99       471\n",
      "        36.0       1.00      1.00      1.00       474\n",
      "        37.0       0.99      1.00      1.00       483\n",
      "        38.0       0.99      0.99      0.99       518\n",
      "        39.0       1.00      1.00      1.00       500\n",
      "        40.0       1.00      0.99      0.99       529\n",
      "        41.0       1.00      1.00      1.00       470\n",
      "        42.0       0.98      0.94      0.96       481\n",
      "\n",
      "    accuracy                           0.98     21500\n",
      "   macro avg       0.98      0.98      0.98     21500\n",
      "weighted avg       0.98      0.98      0.98     21500\n",
      "\n"
     ]
    }
   ],
   "source": [
    "print(classification_report(y_test,pred_b))"
   ]
  },
  {
   "cell_type": "code",
   "execution_count": null,
   "id": "52d9b674-71e3-4910-b772-bb579290bf62",
   "metadata": {},
   "outputs": [],
   "source": []
  },
  {
   "cell_type": "code",
   "execution_count": 324,
   "id": "f99b5e4e-cc26-402f-8e14-91acef69abd1",
   "metadata": {},
   "outputs": [],
   "source": [
    "n_epochs = 10\n",
    "\n",
    "model_big_1 = Model_Big()\n",
    "model_big_1 = model_big_1.apply(init_weights)"
   ]
  },
  {
   "cell_type": "code",
   "execution_count": 325,
   "id": "56a7500b-3767-48cf-9ab4-ef58f7a81b8f",
   "metadata": {},
   "outputs": [
    {
     "name": "stdout",
     "output_type": "stream",
     "text": [
      "Epoch 0: \n",
      " Accuracy - train: 0.9752444444444486 | test: 0.9760317460317456 \n",
      " Loss - train: 0.09359956532716751 | test: 0.10103171318769455\n",
      "Epoch 1: \n",
      " Accuracy - train: 0.9858000000000037 | test: 0.9839285714285708 \n",
      " Loss - train: 0.0482790581882 | test: 0.061407774686813354\n",
      "Epoch 2: \n",
      " Accuracy - train: 0.9919111111111135 | test: 0.9879365079365072 \n",
      " Loss - train: 0.028838399797677994 | test: 0.04717256873846054\n",
      "Epoch 3: \n",
      " Accuracy - train: 0.9906000000000033 | test: 0.9865079365079357 \n",
      " Loss - train: 0.03626324236392975 | test: 0.0632418841123581\n",
      "Epoch 4: \n",
      " Accuracy - train: 0.9925777777777796 | test: 0.9867460317460314 \n",
      " Loss - train: 0.02457634173333645 | test: 0.04968314245343208\n",
      "Epoch 5: \n",
      " Accuracy - train: 0.9706666666666696 | test: 0.9625793650793649 \n",
      " Loss - train: 0.11735642701387405 | test: 0.16110815107822418\n",
      "Epoch 6: \n",
      " Accuracy - train: 0.9954444444444457 | test: 0.9908730158730154 \n",
      " Loss - train: 0.016203148290514946 | test: 0.0372423492372036\n",
      "Epoch 7: \n",
      " Accuracy - train: 0.9936444444444464 | test: 0.9902777777777773 \n",
      " Loss - train: 0.02377958968281746 | test: 0.04023526981472969\n",
      "Epoch 8: \n",
      " Accuracy - train: 0.9950666666666684 | test: 0.9871428571428568 \n",
      " Loss - train: 0.016117600724101067 | test: 0.04080981761217117\n",
      "Epoch 9: \n",
      " Accuracy - train: 0.9937111111111128 | test: 0.9900793650793644 \n",
      " Loss - train: 0.026141220703721046 | test: 0.05134474113583565\n"
     ]
    }
   ],
   "source": [
    "acc_train_big1, loss_train_all_big1, acc_test_all_big1, loss_test_all_big1 = model_big_1.fit(n_epochs, learning_rate, train_loader, test_loader)"
   ]
  },
  {
   "cell_type": "code",
   "execution_count": 326,
   "id": "f3e2729c-13b4-4e0f-bdbd-e64ac861c59a",
   "metadata": {},
   "outputs": [],
   "source": [
    "X_test_torch = torch.from_numpy(X_test).float()\n",
    "pred_b1 = [np.argmax(np.abs(model_big_1((X_test_torch)[i]).detach().numpy())) for i in range(len(X_test_torch))]"
   ]
  },
  {
   "cell_type": "code",
   "execution_count": 327,
   "id": "2fd8c730-55bc-4624-90d6-29348ac087ea",
   "metadata": {},
   "outputs": [
    {
     "name": "stdout",
     "output_type": "stream",
     "text": [
      "              precision    recall  f1-score   support\n",
      "\n",
      "         0.0       0.99      0.83      0.90       525\n",
      "         1.0       1.00      0.37      0.54       484\n",
      "         2.0       0.97      0.79      0.87       509\n",
      "         3.0       0.99      0.95      0.97       512\n",
      "         4.0       0.67      0.02      0.05       498\n",
      "         5.0       1.00      0.87      0.93       514\n",
      "         6.0       0.57      0.99      0.73       508\n",
      "         7.0       0.67      0.00      0.01       495\n",
      "         8.0       0.97      0.94      0.96       495\n",
      "         9.0       0.99      0.87      0.93       502\n",
      "        10.0       0.99      0.95      0.97       478\n",
      "        11.0       0.99      0.92      0.96       521\n",
      "        12.0       1.00      0.93      0.96       477\n",
      "        13.0       0.98      0.97      0.98       491\n",
      "        14.0       0.99      0.93      0.96       507\n",
      "        15.0       0.99      0.75      0.85       526\n",
      "        16.0       0.28      0.98      0.43       503\n",
      "        17.0       0.56      0.94      0.71       520\n",
      "        18.0       0.95      0.98      0.97       531\n",
      "        19.0       0.92      0.36      0.51       495\n",
      "        20.0       0.98      0.96      0.97       495\n",
      "        21.0       0.95      0.65      0.77       523\n",
      "        22.0       0.91      0.99      0.95       496\n",
      "        23.0       0.99      0.91      0.95       453\n",
      "        24.0       0.93      0.99      0.96       505\n",
      "        25.0       0.99      0.97      0.98       524\n",
      "        26.0       0.95      0.90      0.92       511\n",
      "        27.0       0.97      0.96      0.97       468\n",
      "        28.0       0.95      1.00      0.97       510\n",
      "        29.0       1.00      0.27      0.43       464\n",
      "        30.0       0.95      0.89      0.92       511\n",
      "        31.0       0.62      0.50      0.56       482\n",
      "        32.0       0.93      0.97      0.95       535\n",
      "        33.0       0.86      0.96      0.90       513\n",
      "        34.0       0.98      0.98      0.98       493\n",
      "        35.0       1.00      0.93      0.96       471\n",
      "        36.0       0.70      1.00      0.82       474\n",
      "        37.0       0.95      0.98      0.97       483\n",
      "        38.0       0.94      0.99      0.96       518\n",
      "        39.0       0.98      1.00      0.99       500\n",
      "        40.0       0.98      0.78      0.87       529\n",
      "        41.0       0.45      0.99      0.62       470\n",
      "        42.0       0.95      0.99      0.97       481\n",
      "\n",
      "    accuracy                           0.84     21500\n",
      "   macro avg       0.89      0.84      0.83     21500\n",
      "weighted avg       0.89      0.84      0.83     21500\n",
      "\n"
     ]
    }
   ],
   "source": [
    "print(classification_report(y_test,pred_b1))"
   ]
  },
  {
   "cell_type": "code",
   "execution_count": null,
   "id": "abd89d49-f084-4334-9896-c85f033bf799",
   "metadata": {},
   "outputs": [],
   "source": []
  },
  {
   "cell_type": "code",
   "execution_count": null,
   "id": "4c9680a5-6b94-4cbb-85db-9aea7581e8ad",
   "metadata": {
    "scrolled": true
   },
   "outputs": [],
   "source": []
  },
  {
   "cell_type": "code",
   "execution_count": null,
   "id": "58aad3b9-acf5-4b59-ac87-d0a4532ac973",
   "metadata": {},
   "outputs": [],
   "source": []
  },
  {
   "cell_type": "code",
   "execution_count": null,
   "id": "fc122199-74a0-4da6-b23a-a038312b9c53",
   "metadata": {},
   "outputs": [],
   "source": []
  },
  {
   "cell_type": "code",
   "execution_count": null,
   "id": "722ffd96-03ed-4f9e-869e-2bc3572e28e4",
   "metadata": {},
   "outputs": [],
   "source": []
  },
  {
   "cell_type": "code",
   "execution_count": null,
   "id": "a0368cc8-7893-45a4-833e-f855646b0e91",
   "metadata": {},
   "outputs": [],
   "source": []
  },
  {
   "cell_type": "code",
   "execution_count": null,
   "id": "d2357f49-17c1-4e02-905a-46bc7d2e2ce8",
   "metadata": {},
   "outputs": [],
   "source": []
  },
  {
   "cell_type": "code",
   "execution_count": null,
   "id": "7937901b-d5c7-4696-9066-d64f96551258",
   "metadata": {},
   "outputs": [],
   "source": []
  },
  {
   "cell_type": "code",
   "execution_count": null,
   "id": "2f8a6f56-2ed9-4c75-b111-1ea7cfdeceb1",
   "metadata": {},
   "outputs": [],
   "source": []
  },
  {
   "cell_type": "code",
   "execution_count": 104,
   "id": "5a951b82-d900-4f3e-9c74-df8a13c0b79d",
   "metadata": {},
   "outputs": [],
   "source": [
    "X_train2 = np.transpose(X_train2, (0, 3, 1, 2))\n",
    "X_test2 = np.transpose(X_test2, (0, 3, 1, 2))"
   ]
  },
  {
   "cell_type": "code",
   "execution_count": 105,
   "id": "25828584-846b-4ce2-8765-34dbd2258967",
   "metadata": {},
   "outputs": [],
   "source": [
    "train_dataset2 = TensorDataset(torch.from_numpy(X_train2).float(), torch.LongTensor(y_train2))\n",
    "test_dataset2 = TensorDataset(torch.from_numpy(X_test2).float(), torch.LongTensor(y_test2))"
   ]
  },
  {
   "cell_type": "code",
   "execution_count": 106,
   "id": "5edc73af-8954-4142-8c6c-471b04187786",
   "metadata": {},
   "outputs": [],
   "source": [
    "batch_size = 60\n",
    "train_loader2 = DataLoader(dataset=train_dataset2, batch_size=batch_size, shuffle=True)\n",
    "test_loader2 = DataLoader(dataset=test_dataset2, batch_size=90, shuffle=False)"
   ]
  },
  {
   "cell_type": "code",
   "execution_count": 113,
   "id": "743da0cb-82af-4a56-8f78-0beb84b97f39",
   "metadata": {},
   "outputs": [],
   "source": [
    "n_epochs = 6\n",
    "\n",
    "model_big_3 = Model_Big()\n",
    "model_big_3 = model_big_3.apply(init_weights)"
   ]
  },
  {
   "cell_type": "code",
   "execution_count": 114,
   "id": "4b69060a-51b2-48ac-bb93-74fc031fecaa",
   "metadata": {},
   "outputs": [
    {
     "name": "stdout",
     "output_type": "stream",
     "text": [
      "Epoch 0: \n",
      " Accuracy - train: 0.9840539284054016 | test: 0.9820432357043238 \n",
      " Loss - train: 0.060884296894073486 | test: 0.06915489584207535\n",
      "Epoch 1: \n",
      " Accuracy - train: 0.9915039516504004 | test: 0.9904637377963734 \n",
      " Loss - train: 0.030697286128997803 | test: 0.03714559227228165\n",
      "Epoch 2: \n",
      " Accuracy - train: 0.9949790794979111 | test: 0.9930729893072979 \n",
      " Loss - train: 0.021230829879641533 | test: 0.02725626528263092\n",
      "Epoch 3: \n",
      " Accuracy - train: 0.9923407717340816 | test: 0.9905102278010219 \n",
      " Loss - train: 0.037035420536994934 | test: 0.05255976319313049\n",
      "Epoch 4: \n",
      " Accuracy - train: 0.9949093444909378 | test: 0.9931659693165964 \n",
      " Loss - train: 0.016407744958996773 | test: 0.025471316650509834\n",
      "Epoch 5: \n",
      " Accuracy - train: 0.9932124593212499 | test: 0.9916782891678284 \n",
      " Loss - train: 0.02460356615483761 | test: 0.0370207279920578\n"
     ]
    }
   ],
   "source": [
    "acc_train_big3, loss_train_all_big3, acc_test_all_big3, loss_test_all_big3 = model_big_3.fit(n_epochs, learning_rate, train_loader2, test_loader2)"
   ]
  },
  {
   "cell_type": "code",
   "execution_count": 115,
   "id": "2825b9e0-f73a-4489-a276-b89e5c5eb743",
   "metadata": {},
   "outputs": [],
   "source": [
    "X_test_torch = torch.from_numpy(X_test).float()\n",
    "pred_b3 = [np.argmax(np.abs(model_big_3((X_test_torch)[i]).detach().numpy())) for i in range(len(X_test_torch))]"
   ]
  },
  {
   "cell_type": "code",
   "execution_count": 116,
   "id": "4c5d7913-ba53-47b2-86f8-16499d6799eb",
   "metadata": {},
   "outputs": [
    {
     "name": "stdout",
     "output_type": "stream",
     "text": [
      "              precision    recall  f1-score   support\n",
      "\n",
      "         0.0       0.93      0.99      0.96       525\n",
      "         1.0       1.00      0.73      0.84       484\n",
      "         2.0       0.99      0.87      0.92       509\n",
      "         3.0       1.00      0.60      0.75       512\n",
      "         4.0       0.83      0.95      0.89       498\n",
      "         5.0       1.00      0.71      0.83       514\n",
      "         6.0       0.70      0.97      0.81       508\n",
      "         7.0       0.47      0.84      0.60       495\n",
      "         8.0       0.99      0.81      0.89       495\n",
      "         9.0       0.97      0.96      0.97       502\n",
      "        10.0       0.84      0.96      0.90       478\n",
      "        11.0       1.00      0.66      0.80       521\n",
      "        12.0       1.00      0.86      0.92       477\n",
      "        13.0       0.86      0.71      0.78       491\n",
      "        14.0       0.96      0.93      0.94       507\n",
      "        15.0       0.69      0.16      0.26       526\n",
      "        16.0       0.92      0.96      0.94       503\n",
      "        17.0       0.83      1.00      0.91       520\n",
      "        18.0       0.98      0.10      0.18       531\n",
      "        19.0       0.97      0.95      0.96       495\n",
      "        20.0       0.98      0.96      0.97       495\n",
      "        21.0       0.99      0.83      0.91       523\n",
      "        22.0       0.68      0.76      0.72       496\n",
      "        23.0       0.59      0.97      0.73       453\n",
      "        24.0       0.83      0.97      0.89       505\n",
      "        25.0       0.99      0.98      0.98       524\n",
      "        26.0       0.63      0.71      0.67       511\n",
      "        27.0       0.65      0.96      0.77       468\n",
      "        28.0       1.00      1.00      1.00       510\n",
      "        29.0       0.99      0.89      0.94       464\n",
      "        30.0       0.99      0.87      0.93       511\n",
      "        31.0       0.90      0.81      0.85       482\n",
      "        32.0       0.90      0.97      0.93       535\n",
      "        33.0       0.92      0.99      0.95       513\n",
      "        34.0       0.95      0.99      0.97       493\n",
      "        35.0       1.00      0.96      0.98       471\n",
      "        36.0       0.97      0.99      0.98       474\n",
      "        37.0       0.85      0.99      0.92       483\n",
      "        38.0       0.99      0.97      0.98       518\n",
      "        39.0       0.89      0.96      0.92       500\n",
      "        40.0       1.00      0.96      0.98       529\n",
      "        41.0       0.64      0.99      0.78       470\n",
      "        42.0       0.81      0.92      0.86       481\n",
      "\n",
      "    accuracy                           0.86     21500\n",
      "   macro avg       0.88      0.86      0.85     21500\n",
      "weighted avg       0.89      0.86      0.85     21500\n",
      "\n"
     ]
    }
   ],
   "source": [
    "print(classification_report(y_test,pred_b3))"
   ]
  },
  {
   "cell_type": "code",
   "execution_count": null,
   "id": "bb8c3544-aea4-4c9a-8a22-4338663513ad",
   "metadata": {},
   "outputs": [],
   "source": []
  },
  {
   "cell_type": "code",
   "execution_count": null,
   "id": "97008265-b544-458d-9542-da6061eb110e",
   "metadata": {},
   "outputs": [],
   "source": []
  },
  {
   "cell_type": "code",
   "execution_count": null,
   "id": "85c277b0-9e41-44a3-92de-41f584d1e255",
   "metadata": {},
   "outputs": [],
   "source": []
  }
 ],
 "metadata": {
  "kernelspec": {
   "display_name": "Python 3 (ipykernel)",
   "language": "python",
   "name": "python3"
  },
  "language_info": {
   "codemirror_mode": {
    "name": "ipython",
    "version": 3
   },
   "file_extension": ".py",
   "mimetype": "text/x-python",
   "name": "python",
   "nbconvert_exporter": "python",
   "pygments_lexer": "ipython3",
   "version": "3.11.8"
  }
 },
 "nbformat": 4,
 "nbformat_minor": 5
}
