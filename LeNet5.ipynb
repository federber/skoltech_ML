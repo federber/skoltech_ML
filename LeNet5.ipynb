{
 "cells": [
  {
   "cell_type": "code",
   "execution_count": 129,
   "id": "d6db2bfc-f6b2-462e-9431-7b1c74fd2e82",
   "metadata": {},
   "outputs": [
    {
     "name": "stdout",
     "output_type": "stream",
     "text": [
      "2.5.1+cpu\n"
     ]
    }
   ],
   "source": [
    "import pandas as pd\n",
    "import numpy as np\n",
    "from sklearn.metrics import accuracy_score\n",
    "import numpy as np\n",
    "import pandas as pd\n",
    "import matplotlib.pyplot as plt\n",
    "import matplotlib.pyplot as plt\n",
    "from tqdm import tqdm\n",
    "import warnings\n",
    "# warnings.simplefilter('ignore')\n",
    "import torch\n",
    "from torch.utils.data import DataLoader, Dataset, Subset\n",
    "import torchvision\n",
    "from torchvision import transforms\n",
    "from matplotlib import pyplot as plt\n",
    "import numpy as np\n",
    "from sklearn import datasets\n",
    "from sklearn.model_selection import train_test_split\n",
    "import torch\n",
    "from sklearn.metrics import classification_report\n",
    "import seaborn as sns\n",
    "import torch.nn as nn\n",
    "\n",
    "from torchvision import datasets, transforms\n",
    "\n",
    "print(torch.__version__)"
   ]
  },
  {
   "cell_type": "markdown",
   "id": "af30ceac-2c7f-4339-901a-c054917deeda",
   "metadata": {},
   "source": [
    "# Здесь сначала обычный перцептрон, но с Adam"
   ]
  },
  {
   "cell_type": "code",
   "execution_count": 3,
   "id": "8cd6d552-11ce-4527-93d4-deba0c248cd0",
   "metadata": {},
   "outputs": [],
   "source": [
    "def init_weights(m):\n",
    "    if type(m) == torch.nn.Linear:\n",
    "        torch.nn.init.kaiming_normal_(m.weight)\n",
    "        m.bias.data.fill_(0.01)"
   ]
  },
  {
   "cell_type": "code",
   "execution_count": 55,
   "id": "db3cbfbe-996b-45cf-9ab2-88720a3dd56a",
   "metadata": {},
   "outputs": [],
   "source": [
    "\n",
    "\n",
    "class Model_ReLu_Adam(torch.nn.Module):\n",
    "    def __init__(self,input_size,hidden_1_size,hidden_2_size,output_size):\n",
    "        super(Model_ReLu_Adam, self).__init__()\n",
    "        self.apply(init_weights)\n",
    "        self.act1 = torch.nn.ReLU()\n",
    "        self.fc1 = torch.nn.Linear(input_size, hidden_1_size)\n",
    "        self.bn1 = torch.nn.BatchNorm1d(hidden_1_size)\n",
    "        self.fc2 = torch.nn.Linear(hidden_1_size, hidden_2_size)\n",
    "        self.bn2 = torch.nn.BatchNorm1d(hidden_2_size)\n",
    "        self.fc3 = torch.nn.Linear(hidden_2_size, output_size)\n",
    "        self.act2 = torch.nn.Softmax(dim=1)\n",
    "        \n",
    "\n",
    "    def forward(self, x):\n",
    "        x = self.fc1(x)\n",
    "        x = self.bn1(x)\n",
    "        x = self.act1(x)\n",
    "        x = self.fc2(x)\n",
    "        x = self.bn2(x)\n",
    "        x = self.act1(x)\n",
    "        x = self.fc3(x)\n",
    "        x = self.act2(x)\n",
    "        return x\n",
    "\n",
    "    \n",
    "    def batch_train(model, optimizer, x, y):\n",
    "        y_pred = model(x)\n",
    "        loss = loss_fn(y_pred, y)\n",
    "        model.zero_grad()\n",
    "        loss.backward()\n",
    "        optimizer.step()\n",
    "        return (loss.item())\n",
    "        \n",
    "    def train(model, n_epochs, batch_size, learning_rate,  X, y, X_test, y_test):\n",
    "        acc_train_all = []\n",
    "        loss_train_all = []\n",
    "        acc_test_all = []\n",
    "        loss_test_all = []\n",
    "        optimizerAdam = torch.optim.Adam(model.parameters(), lr=0.01)\n",
    "\n",
    "\n",
    "\n",
    "\n",
    "        for epoch in range(n_epochs):\n",
    "\n",
    "            permutation = torch.randperm(X.size()[0])\n",
    "\n",
    "            for i in tqdm(range(0,x_train_norm.float().size()[0], batch_size)):\n",
    "                indices = permutation[i:i+batch_size]\n",
    "                batch_x, batch_y = X[indices], y[indices]\n",
    "                model.batch_train(optimizerAdam, batch_x, batch_y)\n",
    "\n",
    "\n",
    "            y_test_pred = model(X_test)\n",
    "            y_train_pred = model(X)\n",
    "\n",
    "\n",
    "            acc_train = accuracy_score(y, y_train_pred.argmax(dim=1))\n",
    "            loss_train = loss_fn(y_train_pred, y).detach()\n",
    "            acc_test = accuracy_score(y_test, y_test_pred.argmax(dim=1))\n",
    "            loss_test = loss_fn(y_test_pred, y_test).detach()\n",
    "\n",
    "            acc_train_all = np.append(acc_train_all, acc_train)\n",
    "            loss_train_all = np.append(loss_train_all, loss_train)\n",
    "            acc_test_all = np.append(acc_test_all, acc_test)\n",
    "            loss_test_all = np.append(loss_test_all, loss_test)\n",
    "            print(f'Epoch {epoch}: \\n Accuracy - train: {acc_train} | test: {acc_test} \\n Loss - train: {loss_train} | test: {loss_test}')\n",
    "\n",
    "        return(acc_train_all, loss_train_all, acc_test_all, loss_test_all)\n",
    "        "
   ]
  },
  {
   "cell_type": "code",
   "execution_count": 43,
   "id": "0e577021-f7a9-4f1c-9209-ccc032540597",
   "metadata": {},
   "outputs": [],
   "source": [
    "def vis_history(acc_train_all, loss_train_all, acc_test_all, loss_test_all):\n",
    "    fig = plt.figure(figsize=(16, 4))\n",
    "\n",
    "    plt.subplot(1, 2, 1)\n",
    "\n",
    "    plt.plot(loss_train_all, label='loss')\n",
    "    plt.plot(loss_test_all, label='val_loss')\n",
    "\n",
    "    plt.legend()\n",
    "\n",
    "    plt.subplot(1, 2, 2)\n",
    "    plt.plot(acc_train_all, label='acc')\n",
    "    plt.plot(acc_test_all, label='val_acc')\n",
    "\n",
    "    plt.legend()\n",
    "    plt.show()"
   ]
  },
  {
   "cell_type": "code",
   "execution_count": 5,
   "id": "01973fad-b331-4307-8c4f-2b62804e1bbe",
   "metadata": {},
   "outputs": [],
   "source": [
    "from sklearn.datasets import fetch_openml\n",
    "\n",
    "mnist = fetch_openml('mnist_784', version=1)\n",
    "X_mn, y_mn = mnist[\"data\"], mnist[\"target\"]"
   ]
  },
  {
   "cell_type": "code",
   "execution_count": 6,
   "id": "03b3767a-9a6e-460e-9629-663cc73acd29",
   "metadata": {},
   "outputs": [],
   "source": [
    "from skimage.feature import hog\n"
   ]
  },
  {
   "cell_type": "code",
   "execution_count": 67,
   "id": "cef4f0b7-4bf9-43fd-a7cb-ced22cdf8bc3",
   "metadata": {},
   "outputs": [],
   "source": [
    "X_mn_hog = []\n",
    "for el in X_mn.values[:30000]:\n",
    "    img = (np.array(el).reshape(28,28)).astype('uint8')\n",
    "    fd,hog_img = hog(img, orientations=5, pixels_per_cell=(4, 4),\n",
    "                    cells_per_block=(2, 2), visualize=True, channel_axis=None)\n",
    "    X_mn_hog.append(fd)\n",
    "y_mn_hog = y_mn"
   ]
  },
  {
   "cell_type": "code",
   "execution_count": null,
   "id": "041b530f-0d06-48a6-b04c-06511648e53d",
   "metadata": {},
   "outputs": [],
   "source": []
  },
  {
   "cell_type": "code",
   "execution_count": 90,
   "id": "764f06fa-585c-447e-88ae-2d5c783cb1ca",
   "metadata": {},
   "outputs": [],
   "source": [
    "X_mn_train, X_mn_test, y_mn_train, y_mn_test = train_test_split(X_mn_hog[:30000], y_mn_hog.values.astype('uint8')[:30000], test_size=0.2, random_state=42)"
   ]
  },
  {
   "cell_type": "code",
   "execution_count": 69,
   "id": "d2b5abf2-59df-476c-8bbf-36b1b1795f44",
   "metadata": {},
   "outputs": [
    {
     "name": "stdout",
     "output_type": "stream",
     "text": [
      "torch.Size([24000, 720])\n",
      "720\n"
     ]
    }
   ],
   "source": [
    "n_epochs = 200\n",
    "batch_size = 300\n",
    "learning_rate = 0.01\n",
    "\n",
    "X_mn_train = torch.from_numpy(np.array(X_mn_train))\n",
    "X_mn_test = torch.from_numpy(np.array(X_mn_test))\n",
    "X_mn_train = X_mn_train.flatten(start_dim=1).float()\n",
    "X_mn_test = X_mn_test.flatten(start_dim=1).float()\n",
    "y_mn_train = torch.from_numpy(np.array(y_mn_train))\n",
    "y_mn_test = torch.from_numpy(np.array(y_mn_test))\n",
    "print(X_mn_train.size())\n",
    "D_in = np.array(X_mn_train).shape[1]\n",
    "print(D_in)\n",
    "D_out = 10\n",
    "loss_fn = torch.nn.CrossEntropyLoss()"
   ]
  },
  {
   "cell_type": "code",
   "execution_count": 70,
   "id": "dfd8e37a-10e8-48c2-93c8-ef745c72f544",
   "metadata": {},
   "outputs": [],
   "source": [
    "\n",
    "\n",
    "model_ra = Model_ReLu_Adam(D_in,200,20,D_out)\n",
    "model_ra = model_ra.apply(init_weights)"
   ]
  },
  {
   "cell_type": "code",
   "execution_count": 71,
   "id": "c1a3b41b-e2cc-4fca-91f2-4a42811540d8",
   "metadata": {},
   "outputs": [],
   "source": [
    "mean = X_mn_train.mean()\n",
    "std = X_mn_test.std()\n",
    "x_train_norm = (X_mn_train - mean) / std\n",
    "x_test_norm = (X_mn_test - mean) / std"
   ]
  },
  {
   "cell_type": "code",
   "execution_count": 72,
   "id": "eb4e1f83-c7ba-4e61-8613-6778af67a7ae",
   "metadata": {},
   "outputs": [
    {
     "name": "stderr",
     "output_type": "stream",
     "text": [
      "100%|█████████████████████████████████████████████████████████████████████████████████| 80/80 [00:00<00:00, 396.95it/s]\n"
     ]
    },
    {
     "name": "stdout",
     "output_type": "stream",
     "text": [
      "Epoch 0: \n",
      " Accuracy - train: 0.9810833333333333 | test: 0.9713333333333334 \n",
      " Loss - train: 1.4867968559265137 | test: 1.4983975887298584\n"
     ]
    },
    {
     "name": "stderr",
     "output_type": "stream",
     "text": [
      "100%|█████████████████████████████████████████████████████████████████████████████████| 80/80 [00:00<00:00, 391.11it/s]\n"
     ]
    },
    {
     "name": "stdout",
     "output_type": "stream",
     "text": [
      "Epoch 1: \n",
      " Accuracy - train: 0.9887916666666666 | test: 0.973 \n",
      " Loss - train: 1.4765348434448242 | test: 1.492100477218628\n"
     ]
    },
    {
     "name": "stderr",
     "output_type": "stream",
     "text": [
      "100%|█████████████████████████████████████████████████████████████████████████████████| 80/80 [00:00<00:00, 402.52it/s]\n"
     ]
    },
    {
     "name": "stdout",
     "output_type": "stream",
     "text": [
      "Epoch 2: \n",
      " Accuracy - train: 0.99075 | test: 0.9758333333333333 \n",
      " Loss - train: 1.4731731414794922 | test: 1.4886150360107422\n"
     ]
    },
    {
     "name": "stderr",
     "output_type": "stream",
     "text": [
      "100%|█████████████████████████████████████████████████████████████████████████████████| 80/80 [00:00<00:00, 435.06it/s]\n"
     ]
    },
    {
     "name": "stdout",
     "output_type": "stream",
     "text": [
      "Epoch 3: \n",
      " Accuracy - train: 0.9934166666666666 | test: 0.9768333333333333 \n",
      " Loss - train: 1.4694721698760986 | test: 1.486478328704834\n"
     ]
    },
    {
     "name": "stderr",
     "output_type": "stream",
     "text": [
      "100%|█████████████████████████████████████████████████████████████████████████████████| 80/80 [00:00<00:00, 427.99it/s]\n"
     ]
    },
    {
     "name": "stdout",
     "output_type": "stream",
     "text": [
      "Epoch 4: \n",
      " Accuracy - train: 0.9937083333333333 | test: 0.9763333333333334 \n",
      " Loss - train: 1.4689871072769165 | test: 1.4868611097335815\n"
     ]
    },
    {
     "name": "stderr",
     "output_type": "stream",
     "text": [
      "100%|█████████████████████████████████████████████████████████████████████████████████| 80/80 [00:00<00:00, 425.29it/s]\n"
     ]
    },
    {
     "name": "stdout",
     "output_type": "stream",
     "text": [
      "Epoch 5: \n",
      " Accuracy - train: 0.996 | test: 0.9788333333333333 \n",
      " Loss - train: 1.4663020372390747 | test: 1.4843348264694214\n"
     ]
    },
    {
     "name": "stderr",
     "output_type": "stream",
     "text": [
      "100%|█████████████████████████████████████████████████████████████████████████████████| 80/80 [00:00<00:00, 387.22it/s]\n"
     ]
    },
    {
     "name": "stdout",
     "output_type": "stream",
     "text": [
      "Epoch 6: \n",
      " Accuracy - train: 0.9965416666666667 | test: 0.9783333333333334 \n",
      " Loss - train: 1.4655731916427612 | test: 1.4843339920043945\n"
     ]
    },
    {
     "name": "stderr",
     "output_type": "stream",
     "text": [
      "100%|█████████████████████████████████████████████████████████████████████████████████| 80/80 [00:00<00:00, 411.74it/s]\n"
     ]
    },
    {
     "name": "stdout",
     "output_type": "stream",
     "text": [
      "Epoch 7: \n",
      " Accuracy - train: 0.9972083333333334 | test: 0.9786666666666667 \n",
      " Loss - train: 1.464789867401123 | test: 1.4838818311691284\n"
     ]
    },
    {
     "name": "stderr",
     "output_type": "stream",
     "text": [
      "100%|█████████████████████████████████████████████████████████████████████████████████| 80/80 [00:00<00:00, 389.67it/s]\n"
     ]
    },
    {
     "name": "stdout",
     "output_type": "stream",
     "text": [
      "Epoch 8: \n",
      " Accuracy - train: 0.9962916666666667 | test: 0.976 \n",
      " Loss - train: 1.4657847881317139 | test: 1.4855211973190308\n"
     ]
    },
    {
     "name": "stderr",
     "output_type": "stream",
     "text": [
      "100%|█████████████████████████████████████████████████████████████████████████████████| 80/80 [00:00<00:00, 404.94it/s]\n"
     ]
    },
    {
     "name": "stdout",
     "output_type": "stream",
     "text": [
      "Epoch 9: \n",
      " Accuracy - train: 0.9969583333333333 | test: 0.9785 \n",
      " Loss - train: 1.4646393060684204 | test: 1.4833979606628418\n"
     ]
    },
    {
     "name": "stderr",
     "output_type": "stream",
     "text": [
      "100%|█████████████████████████████████████████████████████████████████████████████████| 80/80 [00:00<00:00, 411.54it/s]\n"
     ]
    },
    {
     "name": "stdout",
     "output_type": "stream",
     "text": [
      "Epoch 10: \n",
      " Accuracy - train: 0.9973333333333333 | test: 0.9775 \n",
      " Loss - train: 1.4641607999801636 | test: 1.4835766553878784\n"
     ]
    },
    {
     "name": "stderr",
     "output_type": "stream",
     "text": [
      "100%|█████████████████████████████████████████████████████████████████████████████████| 80/80 [00:00<00:00, 412.53it/s]\n"
     ]
    },
    {
     "name": "stdout",
     "output_type": "stream",
     "text": [
      "Epoch 11: \n",
      " Accuracy - train: 0.99725 | test: 0.9768333333333333 \n",
      " Loss - train: 1.4642071723937988 | test: 1.485018253326416\n"
     ]
    },
    {
     "name": "stderr",
     "output_type": "stream",
     "text": [
      "100%|█████████████████████████████████████████████████████████████████████████████████| 80/80 [00:00<00:00, 430.09it/s]\n"
     ]
    },
    {
     "name": "stdout",
     "output_type": "stream",
     "text": [
      "Epoch 12: \n",
      " Accuracy - train: 0.9978333333333333 | test: 0.9786666666666667 \n",
      " Loss - train: 1.4636967182159424 | test: 1.4834293127059937\n"
     ]
    },
    {
     "name": "stderr",
     "output_type": "stream",
     "text": [
      "100%|█████████████████████████████████████████████████████████████████████████████████| 80/80 [00:00<00:00, 433.31it/s]\n"
     ]
    },
    {
     "name": "stdout",
     "output_type": "stream",
     "text": [
      "Epoch 13: \n",
      " Accuracy - train: 0.997875 | test: 0.9791666666666666 \n",
      " Loss - train: 1.46358060836792 | test: 1.4829189777374268\n"
     ]
    },
    {
     "name": "stderr",
     "output_type": "stream",
     "text": [
      "100%|█████████████████████████████████████████████████████████████████████████████████| 80/80 [00:00<00:00, 397.24it/s]\n"
     ]
    },
    {
     "name": "stdout",
     "output_type": "stream",
     "text": [
      "Epoch 14: \n",
      " Accuracy - train: 0.996625 | test: 0.9788333333333333 \n",
      " Loss - train: 1.465127944946289 | test: 1.484130859375\n"
     ]
    },
    {
     "name": "stderr",
     "output_type": "stream",
     "text": [
      "100%|█████████████████████████████████████████████████████████████████████████████████| 80/80 [00:00<00:00, 407.52it/s]\n"
     ]
    },
    {
     "name": "stdout",
     "output_type": "stream",
     "text": [
      "Epoch 15: \n",
      " Accuracy - train: 0.9972083333333334 | test: 0.9775 \n",
      " Loss - train: 1.4643911123275757 | test: 1.484784722328186\n"
     ]
    },
    {
     "name": "stderr",
     "output_type": "stream",
     "text": [
      "100%|█████████████████████████████████████████████████████████████████████████████████| 80/80 [00:00<00:00, 411.51it/s]\n"
     ]
    },
    {
     "name": "stdout",
     "output_type": "stream",
     "text": [
      "Epoch 16: \n",
      " Accuracy - train: 0.9976666666666667 | test: 0.9775 \n",
      " Loss - train: 1.4637672901153564 | test: 1.4839329719543457\n"
     ]
    },
    {
     "name": "stderr",
     "output_type": "stream",
     "text": [
      "100%|█████████████████████████████████████████████████████████████████████████████████| 80/80 [00:00<00:00, 414.18it/s]\n"
     ]
    },
    {
     "name": "stdout",
     "output_type": "stream",
     "text": [
      "Epoch 17: \n",
      " Accuracy - train: 0.9975833333333334 | test: 0.9766666666666667 \n",
      " Loss - train: 1.4639312028884888 | test: 1.4846693277359009\n"
     ]
    },
    {
     "name": "stderr",
     "output_type": "stream",
     "text": [
      "100%|█████████████████████████████████████████████████████████████████████████████████| 80/80 [00:00<00:00, 386.13it/s]\n"
     ]
    },
    {
     "name": "stdout",
     "output_type": "stream",
     "text": [
      "Epoch 18: \n",
      " Accuracy - train: 0.9981666666666666 | test: 0.9766666666666667 \n",
      " Loss - train: 1.463293433189392 | test: 1.4848891496658325\n"
     ]
    },
    {
     "name": "stderr",
     "output_type": "stream",
     "text": [
      "100%|█████████████████████████████████████████████████████████████████████████████████| 80/80 [00:00<00:00, 394.29it/s]\n"
     ]
    },
    {
     "name": "stdout",
     "output_type": "stream",
     "text": [
      "Epoch 19: \n",
      " Accuracy - train: 0.9979583333333333 | test: 0.9785 \n",
      " Loss - train: 1.4634056091308594 | test: 1.483572244644165\n"
     ]
    },
    {
     "name": "stderr",
     "output_type": "stream",
     "text": [
      "100%|█████████████████████████████████████████████████████████████████████████████████| 80/80 [00:00<00:00, 407.04it/s]\n"
     ]
    },
    {
     "name": "stdout",
     "output_type": "stream",
     "text": [
      "Epoch 20: \n",
      " Accuracy - train: 0.998125 | test: 0.9798333333333333 \n",
      " Loss - train: 1.4631716012954712 | test: 1.4821323156356812\n"
     ]
    },
    {
     "name": "stderr",
     "output_type": "stream",
     "text": [
      "100%|█████████████████████████████████████████████████████████████████████████████████| 80/80 [00:00<00:00, 435.27it/s]\n"
     ]
    },
    {
     "name": "stdout",
     "output_type": "stream",
     "text": [
      "Epoch 21: \n",
      " Accuracy - train: 0.9983333333333333 | test: 0.9815 \n",
      " Loss - train: 1.4630428552627563 | test: 1.4808694124221802\n"
     ]
    },
    {
     "name": "stderr",
     "output_type": "stream",
     "text": [
      "100%|█████████████████████████████████████████████████████████████████████████████████| 80/80 [00:00<00:00, 416.11it/s]\n"
     ]
    },
    {
     "name": "stdout",
     "output_type": "stream",
     "text": [
      "Epoch 22: \n",
      " Accuracy - train: 0.9985 | test: 0.9795 \n",
      " Loss - train: 1.4627245664596558 | test: 1.482431173324585\n"
     ]
    },
    {
     "name": "stderr",
     "output_type": "stream",
     "text": [
      "100%|█████████████████████████████████████████████████████████████████████████████████| 80/80 [00:00<00:00, 421.46it/s]\n"
     ]
    },
    {
     "name": "stdout",
     "output_type": "stream",
     "text": [
      "Epoch 23: \n",
      " Accuracy - train: 0.9983333333333333 | test: 0.9791666666666666 \n",
      " Loss - train: 1.4629666805267334 | test: 1.4820218086242676\n"
     ]
    },
    {
     "name": "stderr",
     "output_type": "stream",
     "text": [
      "100%|█████████████████████████████████████████████████████████████████████████████████| 80/80 [00:00<00:00, 429.16it/s]\n"
     ]
    },
    {
     "name": "stdout",
     "output_type": "stream",
     "text": [
      "Epoch 24: \n",
      " Accuracy - train: 0.997875 | test: 0.9766666666666667 \n",
      " Loss - train: 1.4634813070297241 | test: 1.4841601848602295\n"
     ]
    },
    {
     "name": "stderr",
     "output_type": "stream",
     "text": [
      "100%|█████████████████████████████████████████████████████████████████████████████████| 80/80 [00:00<00:00, 412.36it/s]\n"
     ]
    },
    {
     "name": "stdout",
     "output_type": "stream",
     "text": [
      "Epoch 25: \n",
      " Accuracy - train: 0.9979166666666667 | test: 0.9781666666666666 \n",
      " Loss - train: 1.4634920358657837 | test: 1.4832301139831543\n"
     ]
    },
    {
     "name": "stderr",
     "output_type": "stream",
     "text": [
      "100%|█████████████████████████████████████████████████████████████████████████████████| 80/80 [00:00<00:00, 430.97it/s]\n"
     ]
    },
    {
     "name": "stdout",
     "output_type": "stream",
     "text": [
      "Epoch 26: \n",
      " Accuracy - train: 0.9983333333333333 | test: 0.977 \n",
      " Loss - train: 1.46299409866333 | test: 1.4842946529388428\n"
     ]
    },
    {
     "name": "stderr",
     "output_type": "stream",
     "text": [
      "100%|█████████████████████████████████████████████████████████████████████████████████| 80/80 [00:00<00:00, 442.12it/s]\n"
     ]
    },
    {
     "name": "stdout",
     "output_type": "stream",
     "text": [
      "Epoch 27: \n",
      " Accuracy - train: 0.9982083333333334 | test: 0.978 \n",
      " Loss - train: 1.4630478620529175 | test: 1.4834603071212769\n"
     ]
    },
    {
     "name": "stderr",
     "output_type": "stream",
     "text": [
      "100%|█████████████████████████████████████████████████████████████████████████████████| 80/80 [00:00<00:00, 386.82it/s]\n"
     ]
    },
    {
     "name": "stdout",
     "output_type": "stream",
     "text": [
      "Epoch 28: \n",
      " Accuracy - train: 0.9981666666666666 | test: 0.978 \n",
      " Loss - train: 1.4631849527359009 | test: 1.4836314916610718\n"
     ]
    },
    {
     "name": "stderr",
     "output_type": "stream",
     "text": [
      "100%|█████████████████████████████████████████████████████████████████████████████████| 80/80 [00:00<00:00, 404.04it/s]\n"
     ]
    },
    {
     "name": "stdout",
     "output_type": "stream",
     "text": [
      "Epoch 29: \n",
      " Accuracy - train: 0.9975 | test: 0.9765 \n",
      " Loss - train: 1.463969349861145 | test: 1.4847575426101685\n"
     ]
    },
    {
     "name": "stderr",
     "output_type": "stream",
     "text": [
      "100%|█████████████████████████████████████████████████████████████████████████████████| 80/80 [00:00<00:00, 432.86it/s]\n"
     ]
    },
    {
     "name": "stdout",
     "output_type": "stream",
     "text": [
      "Epoch 30: \n",
      " Accuracy - train: 0.9980833333333333 | test: 0.9768333333333333 \n",
      " Loss - train: 1.4632434844970703 | test: 1.4841797351837158\n"
     ]
    },
    {
     "name": "stderr",
     "output_type": "stream",
     "text": [
      "100%|█████████████████████████████████████████████████████████████████████████████████| 80/80 [00:00<00:00, 440.71it/s]\n"
     ]
    },
    {
     "name": "stdout",
     "output_type": "stream",
     "text": [
      "Epoch 31: \n",
      " Accuracy - train: 0.998125 | test: 0.9776666666666667 \n",
      " Loss - train: 1.4633431434631348 | test: 1.4838157892227173\n"
     ]
    },
    {
     "name": "stderr",
     "output_type": "stream",
     "text": [
      "100%|█████████████████████████████████████████████████████████████████████████████████| 80/80 [00:00<00:00, 401.58it/s]\n"
     ]
    },
    {
     "name": "stdout",
     "output_type": "stream",
     "text": [
      "Epoch 32: \n",
      " Accuracy - train: 0.9981666666666666 | test: 0.9796666666666667 \n",
      " Loss - train: 1.4631316661834717 | test: 1.4821125268936157\n"
     ]
    },
    {
     "name": "stderr",
     "output_type": "stream",
     "text": [
      "100%|█████████████████████████████████████████████████████████████████████████████████| 80/80 [00:00<00:00, 385.39it/s]\n"
     ]
    },
    {
     "name": "stdout",
     "output_type": "stream",
     "text": [
      "Epoch 33: \n",
      " Accuracy - train: 0.99775 | test: 0.9771666666666666 \n",
      " Loss - train: 1.4634729623794556 | test: 1.484294056892395\n"
     ]
    },
    {
     "name": "stderr",
     "output_type": "stream",
     "text": [
      "100%|█████████████████████████████████████████████████████████████████████████████████| 80/80 [00:00<00:00, 368.46it/s]\n"
     ]
    },
    {
     "name": "stdout",
     "output_type": "stream",
     "text": [
      "Epoch 34: \n",
      " Accuracy - train: 0.9987083333333333 | test: 0.9788333333333333 \n",
      " Loss - train: 1.4625436067581177 | test: 1.4823697805404663\n"
     ]
    },
    {
     "name": "stderr",
     "output_type": "stream",
     "text": [
      "100%|█████████████████████████████████████████████████████████████████████████████████| 80/80 [00:00<00:00, 355.07it/s]\n"
     ]
    },
    {
     "name": "stdout",
     "output_type": "stream",
     "text": [
      "Epoch 35: \n",
      " Accuracy - train: 0.9980833333333333 | test: 0.9798333333333333 \n",
      " Loss - train: 1.463335633277893 | test: 1.4822598695755005\n"
     ]
    },
    {
     "name": "stderr",
     "output_type": "stream",
     "text": [
      "100%|█████████████████████████████████████████████████████████████████████████████████| 80/80 [00:00<00:00, 380.50it/s]\n"
     ]
    },
    {
     "name": "stdout",
     "output_type": "stream",
     "text": [
      "Epoch 36: \n",
      " Accuracy - train: 0.9979166666666667 | test: 0.9785 \n",
      " Loss - train: 1.463315486907959 | test: 1.4830138683319092\n"
     ]
    },
    {
     "name": "stderr",
     "output_type": "stream",
     "text": [
      "100%|█████████████████████████████████████████████████████████████████████████████████| 80/80 [00:00<00:00, 373.29it/s]\n"
     ]
    },
    {
     "name": "stdout",
     "output_type": "stream",
     "text": [
      "Epoch 37: \n",
      " Accuracy - train: 0.9977916666666666 | test: 0.9761666666666666 \n",
      " Loss - train: 1.4635717868804932 | test: 1.4847216606140137\n"
     ]
    },
    {
     "name": "stderr",
     "output_type": "stream",
     "text": [
      "100%|█████████████████████████████████████████████████████████████████████████████████| 80/80 [00:00<00:00, 385.84it/s]\n"
     ]
    },
    {
     "name": "stdout",
     "output_type": "stream",
     "text": [
      "Epoch 38: \n",
      " Accuracy - train: 0.9982916666666667 | test: 0.979 \n",
      " Loss - train: 1.463046908378601 | test: 1.4826700687408447\n"
     ]
    },
    {
     "name": "stderr",
     "output_type": "stream",
     "text": [
      "100%|█████████████████████████████████████████████████████████████████████████████████| 80/80 [00:00<00:00, 435.03it/s]\n"
     ]
    },
    {
     "name": "stdout",
     "output_type": "stream",
     "text": [
      "Epoch 39: \n",
      " Accuracy - train: 0.9985 | test: 0.979 \n",
      " Loss - train: 1.4627254009246826 | test: 1.4821929931640625\n"
     ]
    },
    {
     "name": "stderr",
     "output_type": "stream",
     "text": [
      "100%|█████████████████████████████████████████████████████████████████████████████████| 80/80 [00:00<00:00, 402.43it/s]\n"
     ]
    },
    {
     "name": "stdout",
     "output_type": "stream",
     "text": [
      "Epoch 40: \n",
      " Accuracy - train: 0.99875 | test: 0.9795 \n",
      " Loss - train: 1.4624732732772827 | test: 1.4823434352874756\n"
     ]
    },
    {
     "name": "stderr",
     "output_type": "stream",
     "text": [
      "100%|█████████████████████████████████████████████████████████████████████████████████| 80/80 [00:00<00:00, 397.04it/s]\n"
     ]
    },
    {
     "name": "stdout",
     "output_type": "stream",
     "text": [
      "Epoch 41: \n",
      " Accuracy - train: 0.99825 | test: 0.977 \n",
      " Loss - train: 1.4629275798797607 | test: 1.4842435121536255\n"
     ]
    },
    {
     "name": "stderr",
     "output_type": "stream",
     "text": [
      "100%|█████████████████████████████████████████████████████████████████████████████████| 80/80 [00:00<00:00, 409.35it/s]\n"
     ]
    },
    {
     "name": "stdout",
     "output_type": "stream",
     "text": [
      "Epoch 42: \n",
      " Accuracy - train: 0.9988333333333334 | test: 0.9801666666666666 \n",
      " Loss - train: 1.4623581171035767 | test: 1.4815468788146973\n"
     ]
    },
    {
     "name": "stderr",
     "output_type": "stream",
     "text": [
      "100%|█████████████████████████████████████████████████████████████████████████████████| 80/80 [00:00<00:00, 419.38it/s]\n"
     ]
    },
    {
     "name": "stdout",
     "output_type": "stream",
     "text": [
      "Epoch 43: \n",
      " Accuracy - train: 0.9982083333333334 | test: 0.9765 \n",
      " Loss - train: 1.4630740880966187 | test: 1.4841461181640625\n"
     ]
    },
    {
     "name": "stderr",
     "output_type": "stream",
     "text": [
      "100%|█████████████████████████████████████████████████████████████████████████████████| 80/80 [00:00<00:00, 411.16it/s]\n"
     ]
    },
    {
     "name": "stdout",
     "output_type": "stream",
     "text": [
      "Epoch 44: \n",
      " Accuracy - train: 0.99875 | test: 0.9768333333333333 \n",
      " Loss - train: 1.4624866247177124 | test: 1.484340786933899\n"
     ]
    },
    {
     "name": "stderr",
     "output_type": "stream",
     "text": [
      "100%|█████████████████████████████████████████████████████████████████████████████████| 80/80 [00:00<00:00, 399.77it/s]\n"
     ]
    },
    {
     "name": "stdout",
     "output_type": "stream",
     "text": [
      "Epoch 45: \n",
      " Accuracy - train: 0.998625 | test: 0.9773333333333334 \n",
      " Loss - train: 1.4626432657241821 | test: 1.4834403991699219\n"
     ]
    },
    {
     "name": "stderr",
     "output_type": "stream",
     "text": [
      "100%|█████████████████████████████████████████████████████████████████████████████████| 80/80 [00:00<00:00, 397.27it/s]\n"
     ]
    },
    {
     "name": "stdout",
     "output_type": "stream",
     "text": [
      "Epoch 46: \n",
      " Accuracy - train: 0.9982916666666667 | test: 0.9785 \n",
      " Loss - train: 1.4629662036895752 | test: 1.482709527015686\n"
     ]
    },
    {
     "name": "stderr",
     "output_type": "stream",
     "text": [
      "100%|█████████████████████████████████████████████████████████████████████████████████| 80/80 [00:00<00:00, 388.13it/s]\n"
     ]
    },
    {
     "name": "stdout",
     "output_type": "stream",
     "text": [
      "Epoch 47: \n",
      " Accuracy - train: 0.99875 | test: 0.9801666666666666 \n",
      " Loss - train: 1.4624719619750977 | test: 1.4812572002410889\n"
     ]
    },
    {
     "name": "stderr",
     "output_type": "stream",
     "text": [
      "100%|█████████████████████████████████████████████████████████████████████████████████| 80/80 [00:00<00:00, 406.96it/s]\n"
     ]
    },
    {
     "name": "stdout",
     "output_type": "stream",
     "text": [
      "Epoch 48: \n",
      " Accuracy - train: 0.9989583333333333 | test: 0.9795 \n",
      " Loss - train: 1.4623351097106934 | test: 1.4817835092544556\n"
     ]
    },
    {
     "name": "stderr",
     "output_type": "stream",
     "text": [
      "100%|█████████████████████████████████████████████████████████████████████████████████| 80/80 [00:00<00:00, 369.94it/s]\n"
     ]
    },
    {
     "name": "stdout",
     "output_type": "stream",
     "text": [
      "Epoch 49: \n",
      " Accuracy - train: 0.99875 | test: 0.9793333333333333 \n",
      " Loss - train: 1.4624552726745605 | test: 1.481848120689392\n"
     ]
    },
    {
     "name": "stderr",
     "output_type": "stream",
     "text": [
      "100%|█████████████████████████████████████████████████████████████████████████████████| 80/80 [00:00<00:00, 354.09it/s]\n"
     ]
    },
    {
     "name": "stdout",
     "output_type": "stream",
     "text": [
      "Epoch 50: \n",
      " Accuracy - train: 0.9987083333333333 | test: 0.9803333333333333 \n",
      " Loss - train: 1.4624954462051392 | test: 1.4813659191131592\n"
     ]
    },
    {
     "name": "stderr",
     "output_type": "stream",
     "text": [
      "100%|█████████████████████████████████████████████████████████████████████████████████| 80/80 [00:00<00:00, 371.55it/s]\n"
     ]
    },
    {
     "name": "stdout",
     "output_type": "stream",
     "text": [
      "Epoch 51: \n",
      " Accuracy - train: 0.998875 | test: 0.9803333333333333 \n",
      " Loss - train: 1.4623172283172607 | test: 1.4810011386871338\n"
     ]
    },
    {
     "name": "stderr",
     "output_type": "stream",
     "text": [
      "100%|█████████████████████████████████████████████████████████████████████████████████| 80/80 [00:00<00:00, 416.56it/s]\n"
     ]
    },
    {
     "name": "stdout",
     "output_type": "stream",
     "text": [
      "Epoch 52: \n",
      " Accuracy - train: 0.9988333333333334 | test: 0.98 \n",
      " Loss - train: 1.4624228477478027 | test: 1.4813779592514038\n"
     ]
    },
    {
     "name": "stderr",
     "output_type": "stream",
     "text": [
      "100%|█████████████████████████████████████████████████████████████████████████████████| 80/80 [00:00<00:00, 439.92it/s]\n"
     ]
    },
    {
     "name": "stdout",
     "output_type": "stream",
     "text": [
      "Epoch 53: \n",
      " Accuracy - train: 0.9988333333333334 | test: 0.9776666666666667 \n",
      " Loss - train: 1.46235191822052 | test: 1.4832555055618286\n"
     ]
    },
    {
     "name": "stderr",
     "output_type": "stream",
     "text": [
      "100%|█████████████████████████████████████████████████████████████████████████████████| 80/80 [00:00<00:00, 437.74it/s]\n"
     ]
    },
    {
     "name": "stdout",
     "output_type": "stream",
     "text": [
      "Epoch 54: \n",
      " Accuracy - train: 0.9989166666666667 | test: 0.9806666666666667 \n",
      " Loss - train: 1.4622571468353271 | test: 1.4806314706802368\n"
     ]
    },
    {
     "name": "stderr",
     "output_type": "stream",
     "text": [
      "100%|█████████████████████████████████████████████████████████████████████████████████| 80/80 [00:00<00:00, 411.59it/s]\n"
     ]
    },
    {
     "name": "stdout",
     "output_type": "stream",
     "text": [
      "Epoch 55: \n",
      " Accuracy - train: 0.9985833333333334 | test: 0.9796666666666667 \n",
      " Loss - train: 1.4626411199569702 | test: 1.4814420938491821\n"
     ]
    },
    {
     "name": "stderr",
     "output_type": "stream",
     "text": [
      "100%|█████████████████████████████████████████████████████████████████████████████████| 80/80 [00:00<00:00, 427.53it/s]\n"
     ]
    },
    {
     "name": "stdout",
     "output_type": "stream",
     "text": [
      "Epoch 56: \n",
      " Accuracy - train: 0.9987083333333333 | test: 0.9805 \n",
      " Loss - train: 1.4625507593154907 | test: 1.480430006980896\n"
     ]
    },
    {
     "name": "stderr",
     "output_type": "stream",
     "text": [
      "100%|█████████████████████████████████████████████████████████████████████████████████| 80/80 [00:00<00:00, 408.39it/s]\n"
     ]
    },
    {
     "name": "stdout",
     "output_type": "stream",
     "text": [
      "Epoch 57: \n",
      " Accuracy - train: 0.9982916666666667 | test: 0.979 \n",
      " Loss - train: 1.4629443883895874 | test: 1.4822578430175781\n"
     ]
    },
    {
     "name": "stderr",
     "output_type": "stream",
     "text": [
      "100%|█████████████████████████████████████████████████████████████████████████████████| 80/80 [00:00<00:00, 391.11it/s]\n"
     ]
    },
    {
     "name": "stdout",
     "output_type": "stream",
     "text": [
      "Epoch 58: \n",
      " Accuracy - train: 0.9985833333333334 | test: 0.978 \n",
      " Loss - train: 1.4626579284667969 | test: 1.483038306236267\n"
     ]
    },
    {
     "name": "stderr",
     "output_type": "stream",
     "text": [
      "100%|█████████████████████████████████████████████████████████████████████████████████| 80/80 [00:00<00:00, 405.36it/s]\n"
     ]
    },
    {
     "name": "stdout",
     "output_type": "stream",
     "text": [
      "Epoch 59: \n",
      " Accuracy - train: 0.99825 | test: 0.9791666666666666 \n",
      " Loss - train: 1.4629606008529663 | test: 1.4826745986938477\n"
     ]
    },
    {
     "name": "stderr",
     "output_type": "stream",
     "text": [
      "100%|█████████████████████████████████████████████████████████████████████████████████| 80/80 [00:00<00:00, 413.34it/s]\n"
     ]
    },
    {
     "name": "stdout",
     "output_type": "stream",
     "text": [
      "Epoch 60: \n",
      " Accuracy - train: 0.998375 | test: 0.9778333333333333 \n",
      " Loss - train: 1.4627817869186401 | test: 1.4828165769577026\n"
     ]
    },
    {
     "name": "stderr",
     "output_type": "stream",
     "text": [
      "100%|█████████████████████████████████████████████████████████████████████████████████| 80/80 [00:00<00:00, 425.84it/s]\n"
     ]
    },
    {
     "name": "stdout",
     "output_type": "stream",
     "text": [
      "Epoch 61: \n",
      " Accuracy - train: 0.997625 | test: 0.9801666666666666 \n",
      " Loss - train: 1.4636659622192383 | test: 1.481682300567627\n"
     ]
    },
    {
     "name": "stderr",
     "output_type": "stream",
     "text": [
      "100%|█████████████████████████████████████████████████████████████████████████████████| 80/80 [00:00<00:00, 419.93it/s]\n"
     ]
    },
    {
     "name": "stdout",
     "output_type": "stream",
     "text": [
      "Epoch 62: \n",
      " Accuracy - train: 0.998 | test: 0.9776666666666667 \n",
      " Loss - train: 1.4632515907287598 | test: 1.4837857484817505\n"
     ]
    },
    {
     "name": "stderr",
     "output_type": "stream",
     "text": [
      "100%|█████████████████████████████████████████████████████████████████████████████████| 80/80 [00:00<00:00, 392.61it/s]\n"
     ]
    },
    {
     "name": "stdout",
     "output_type": "stream",
     "text": [
      "Epoch 63: \n",
      " Accuracy - train: 0.9984166666666666 | test: 0.9795 \n",
      " Loss - train: 1.462857961654663 | test: 1.4822200536727905\n"
     ]
    },
    {
     "name": "stderr",
     "output_type": "stream",
     "text": [
      "100%|█████████████████████████████████████████████████████████████████████████████████| 80/80 [00:00<00:00, 395.30it/s]\n"
     ]
    },
    {
     "name": "stdout",
     "output_type": "stream",
     "text": [
      "Epoch 64: \n",
      " Accuracy - train: 0.9984166666666666 | test: 0.9796666666666667 \n",
      " Loss - train: 1.4628000259399414 | test: 1.4822967052459717\n"
     ]
    },
    {
     "name": "stderr",
     "output_type": "stream",
     "text": [
      "100%|█████████████████████████████████████████████████████████████████████████████████| 80/80 [00:00<00:00, 399.31it/s]\n"
     ]
    },
    {
     "name": "stdout",
     "output_type": "stream",
     "text": [
      "Epoch 65: \n",
      " Accuracy - train: 0.998625 | test: 0.98 \n",
      " Loss - train: 1.462552547454834 | test: 1.4813048839569092\n"
     ]
    },
    {
     "name": "stderr",
     "output_type": "stream",
     "text": [
      "100%|█████████████████████████████████████████████████████████████████████████████████| 80/80 [00:00<00:00, 407.77it/s]\n"
     ]
    },
    {
     "name": "stdout",
     "output_type": "stream",
     "text": [
      "Epoch 66: \n",
      " Accuracy - train: 0.9989166666666667 | test: 0.9818333333333333 \n",
      " Loss - train: 1.4622620344161987 | test: 1.4800935983657837\n"
     ]
    },
    {
     "name": "stderr",
     "output_type": "stream",
     "text": [
      "100%|█████████████████████████████████████████████████████████████████████████████████| 80/80 [00:00<00:00, 443.58it/s]\n"
     ]
    },
    {
     "name": "stdout",
     "output_type": "stream",
     "text": [
      "Epoch 67: \n",
      " Accuracy - train: 0.9989583333333333 | test: 0.982 \n",
      " Loss - train: 1.4622067213058472 | test: 1.4797314405441284\n"
     ]
    },
    {
     "name": "stderr",
     "output_type": "stream",
     "text": [
      "100%|█████████████████████████████████████████████████████████████████████████████████| 80/80 [00:00<00:00, 445.97it/s]\n"
     ]
    },
    {
     "name": "stdout",
     "output_type": "stream",
     "text": [
      "Epoch 68: \n",
      " Accuracy - train: 0.9982083333333334 | test: 0.9781666666666666 \n",
      " Loss - train: 1.4629408121109009 | test: 1.4829493761062622\n"
     ]
    },
    {
     "name": "stderr",
     "output_type": "stream",
     "text": [
      "100%|█████████████████████████████████████████████████████████████████████████████████| 80/80 [00:00<00:00, 429.57it/s]\n"
     ]
    },
    {
     "name": "stdout",
     "output_type": "stream",
     "text": [
      "Epoch 69: \n",
      " Accuracy - train: 0.998875 | test: 0.9798333333333333 \n",
      " Loss - train: 1.462357759475708 | test: 1.4811689853668213\n"
     ]
    },
    {
     "name": "stderr",
     "output_type": "stream",
     "text": [
      "100%|█████████████████████████████████████████████████████████████████████████████████| 80/80 [00:00<00:00, 431.67it/s]\n"
     ]
    },
    {
     "name": "stdout",
     "output_type": "stream",
     "text": [
      "Epoch 70: \n",
      " Accuracy - train: 0.9987083333333333 | test: 0.9811666666666666 \n",
      " Loss - train: 1.4625316858291626 | test: 1.4799407720565796\n"
     ]
    },
    {
     "name": "stderr",
     "output_type": "stream",
     "text": [
      "100%|█████████████████████████████████████████████████████████████████████████████████| 80/80 [00:00<00:00, 417.57it/s]\n"
     ]
    },
    {
     "name": "stdout",
     "output_type": "stream",
     "text": [
      "Epoch 71: \n",
      " Accuracy - train: 0.9988333333333334 | test: 0.9815 \n",
      " Loss - train: 1.4623640775680542 | test: 1.4804801940917969\n"
     ]
    },
    {
     "name": "stderr",
     "output_type": "stream",
     "text": [
      "100%|█████████████████████████████████████████████████████████████████████████████████| 80/80 [00:00<00:00, 411.51it/s]\n"
     ]
    },
    {
     "name": "stdout",
     "output_type": "stream",
     "text": [
      "Epoch 72: \n",
      " Accuracy - train: 0.9985416666666667 | test: 0.9773333333333334 \n",
      " Loss - train: 1.4626481533050537 | test: 1.4838968515396118\n"
     ]
    },
    {
     "name": "stderr",
     "output_type": "stream",
     "text": [
      "100%|█████████████████████████████████████████████████████████████████████████████████| 80/80 [00:00<00:00, 426.26it/s]\n"
     ]
    },
    {
     "name": "stdout",
     "output_type": "stream",
     "text": [
      "Epoch 73: \n",
      " Accuracy - train: 0.9984583333333333 | test: 0.9791666666666666 \n",
      " Loss - train: 1.4626986980438232 | test: 1.4820200204849243\n"
     ]
    },
    {
     "name": "stderr",
     "output_type": "stream",
     "text": [
      "100%|█████████████████████████████████████████████████████████████████████████████████| 80/80 [00:00<00:00, 430.89it/s]\n"
     ]
    },
    {
     "name": "stdout",
     "output_type": "stream",
     "text": [
      "Epoch 74: \n",
      " Accuracy - train: 0.9989166666666667 | test: 0.9796666666666667 \n",
      " Loss - train: 1.4623068571090698 | test: 1.4818639755249023\n"
     ]
    },
    {
     "name": "stderr",
     "output_type": "stream",
     "text": [
      "100%|█████████████████████████████████████████████████████████████████████████████████| 80/80 [00:00<00:00, 424.25it/s]\n"
     ]
    },
    {
     "name": "stdout",
     "output_type": "stream",
     "text": [
      "Epoch 75: \n",
      " Accuracy - train: 0.998625 | test: 0.9781666666666666 \n",
      " Loss - train: 1.4626755714416504 | test: 1.4823230504989624\n"
     ]
    },
    {
     "name": "stderr",
     "output_type": "stream",
     "text": [
      "100%|█████████████████████████████████████████████████████████████████████████████████| 80/80 [00:00<00:00, 407.82it/s]\n"
     ]
    },
    {
     "name": "stdout",
     "output_type": "stream",
     "text": [
      "Epoch 76: \n",
      " Accuracy - train: 0.998375 | test: 0.9783333333333334 \n",
      " Loss - train: 1.462754726409912 | test: 1.4830090999603271\n"
     ]
    },
    {
     "name": "stderr",
     "output_type": "stream",
     "text": [
      "100%|█████████████████████████████████████████████████████████████████████████████████| 80/80 [00:00<00:00, 409.61it/s]\n"
     ]
    },
    {
     "name": "stdout",
     "output_type": "stream",
     "text": [
      "Epoch 77: \n",
      " Accuracy - train: 0.998125 | test: 0.9781666666666666 \n",
      " Loss - train: 1.4630615711212158 | test: 1.4825255870819092\n"
     ]
    },
    {
     "name": "stderr",
     "output_type": "stream",
     "text": [
      "100%|█████████████████████████████████████████████████████████████████████████████████| 80/80 [00:00<00:00, 417.25it/s]\n"
     ]
    },
    {
     "name": "stdout",
     "output_type": "stream",
     "text": [
      "Epoch 78: \n",
      " Accuracy - train: 0.9989166666666667 | test: 0.9795 \n",
      " Loss - train: 1.4622585773468018 | test: 1.481122374534607\n"
     ]
    },
    {
     "name": "stderr",
     "output_type": "stream",
     "text": [
      "100%|█████████████████████████████████████████████████████████████████████████████████| 80/80 [00:00<00:00, 416.82it/s]\n"
     ]
    },
    {
     "name": "stdout",
     "output_type": "stream",
     "text": [
      "Epoch 79: \n",
      " Accuracy - train: 0.99875 | test: 0.9766666666666667 \n",
      " Loss - train: 1.4624329805374146 | test: 1.4843376874923706\n"
     ]
    },
    {
     "name": "stderr",
     "output_type": "stream",
     "text": [
      "100%|█████████████████████████████████████████████████████████████████████████████████| 80/80 [00:00<00:00, 410.76it/s]\n"
     ]
    },
    {
     "name": "stdout",
     "output_type": "stream",
     "text": [
      "Epoch 80: \n",
      " Accuracy - train: 0.998875 | test: 0.9775 \n",
      " Loss - train: 1.4622598886489868 | test: 1.4828298091888428\n"
     ]
    },
    {
     "name": "stderr",
     "output_type": "stream",
     "text": [
      "100%|█████████████████████████████████████████████████████████████████████████████████| 80/80 [00:00<00:00, 357.62it/s]\n"
     ]
    },
    {
     "name": "stdout",
     "output_type": "stream",
     "text": [
      "Epoch 81: \n",
      " Accuracy - train: 0.9985833333333334 | test: 0.9781666666666666 \n",
      " Loss - train: 1.4625377655029297 | test: 1.4829078912734985\n"
     ]
    },
    {
     "name": "stderr",
     "output_type": "stream",
     "text": [
      "100%|█████████████████████████████████████████████████████████████████████████████████| 80/80 [00:00<00:00, 371.49it/s]\n"
     ]
    },
    {
     "name": "stdout",
     "output_type": "stream",
     "text": [
      "Epoch 82: \n",
      " Accuracy - train: 0.9987083333333333 | test: 0.9781666666666666 \n",
      " Loss - train: 1.4624773263931274 | test: 1.4832206964492798\n"
     ]
    },
    {
     "name": "stderr",
     "output_type": "stream",
     "text": [
      "100%|█████████████████████████████████████████████████████████████████████████████████| 80/80 [00:00<00:00, 390.47it/s]\n"
     ]
    },
    {
     "name": "stdout",
     "output_type": "stream",
     "text": [
      "Epoch 83: \n",
      " Accuracy - train: 0.998875 | test: 0.9803333333333333 \n",
      " Loss - train: 1.4623377323150635 | test: 1.4808694124221802\n"
     ]
    },
    {
     "name": "stderr",
     "output_type": "stream",
     "text": [
      "100%|█████████████████████████████████████████████████████████████████████████████████| 80/80 [00:00<00:00, 406.87it/s]\n"
     ]
    },
    {
     "name": "stdout",
     "output_type": "stream",
     "text": [
      "Epoch 84: \n",
      " Accuracy - train: 0.9985833333333334 | test: 0.9766666666666667 \n",
      " Loss - train: 1.4627056121826172 | test: 1.483978033065796\n"
     ]
    },
    {
     "name": "stderr",
     "output_type": "stream",
     "text": [
      "100%|█████████████████████████████████████████████████████████████████████████████████| 80/80 [00:00<00:00, 407.15it/s]\n"
     ]
    },
    {
     "name": "stdout",
     "output_type": "stream",
     "text": [
      "Epoch 85: \n",
      " Accuracy - train: 0.9984583333333333 | test: 0.978 \n",
      " Loss - train: 1.4627337455749512 | test: 1.483036994934082\n"
     ]
    },
    {
     "name": "stderr",
     "output_type": "stream",
     "text": [
      "100%|█████████████████████████████████████████████████████████████████████████████████| 80/80 [00:00<00:00, 410.14it/s]\n"
     ]
    },
    {
     "name": "stdout",
     "output_type": "stream",
     "text": [
      "Epoch 86: \n",
      " Accuracy - train: 0.9987916666666666 | test: 0.9793333333333333 \n",
      " Loss - train: 1.4624098539352417 | test: 1.4817802906036377\n"
     ]
    },
    {
     "name": "stderr",
     "output_type": "stream",
     "text": [
      "100%|█████████████████████████████████████████████████████████████████████████████████| 80/80 [00:00<00:00, 394.97it/s]\n"
     ]
    },
    {
     "name": "stdout",
     "output_type": "stream",
     "text": [
      "Epoch 87: \n",
      " Accuracy - train: 0.9984583333333333 | test: 0.9773333333333334 \n",
      " Loss - train: 1.462687373161316 | test: 1.4839473962783813\n"
     ]
    },
    {
     "name": "stderr",
     "output_type": "stream",
     "text": [
      "100%|█████████████████████████████████████████████████████████████████████████████████| 80/80 [00:00<00:00, 397.25it/s]\n"
     ]
    },
    {
     "name": "stdout",
     "output_type": "stream",
     "text": [
      "Epoch 88: \n",
      " Accuracy - train: 0.9989166666666667 | test: 0.9785 \n",
      " Loss - train: 1.4622986316680908 | test: 1.4825602769851685\n"
     ]
    },
    {
     "name": "stderr",
     "output_type": "stream",
     "text": [
      "100%|█████████████████████████████████████████████████████████████████████████████████| 80/80 [00:00<00:00, 372.07it/s]\n"
     ]
    },
    {
     "name": "stdout",
     "output_type": "stream",
     "text": [
      "Epoch 89: \n",
      " Accuracy - train: 0.9984583333333333 | test: 0.973 \n",
      " Loss - train: 1.4627633094787598 | test: 1.4874703884124756\n"
     ]
    },
    {
     "name": "stderr",
     "output_type": "stream",
     "text": [
      "100%|█████████████████████████████████████████████████████████████████████████████████| 80/80 [00:00<00:00, 379.57it/s]\n"
     ]
    },
    {
     "name": "stdout",
     "output_type": "stream",
     "text": [
      "Epoch 90: \n",
      " Accuracy - train: 0.9984583333333333 | test: 0.9785 \n",
      " Loss - train: 1.462605595588684 | test: 1.4829167127609253\n"
     ]
    },
    {
     "name": "stderr",
     "output_type": "stream",
     "text": [
      "100%|█████████████████████████████████████████████████████████████████████████████████| 80/80 [00:00<00:00, 400.20it/s]\n"
     ]
    },
    {
     "name": "stdout",
     "output_type": "stream",
     "text": [
      "Epoch 91: \n",
      " Accuracy - train: 0.99875 | test: 0.9796666666666667 \n",
      " Loss - train: 1.462391972541809 | test: 1.4813966751098633\n"
     ]
    },
    {
     "name": "stderr",
     "output_type": "stream",
     "text": [
      "100%|█████████████████████████████████████████████████████████████████████████████████| 80/80 [00:00<00:00, 403.30it/s]\n"
     ]
    },
    {
     "name": "stdout",
     "output_type": "stream",
     "text": [
      "Epoch 92: \n",
      " Accuracy - train: 0.9986666666666667 | test: 0.9786666666666667 \n",
      " Loss - train: 1.4624494314193726 | test: 1.482090711593628\n"
     ]
    },
    {
     "name": "stderr",
     "output_type": "stream",
     "text": [
      "100%|█████████████████████████████████████████████████████████████████████████████████| 80/80 [00:00<00:00, 408.97it/s]\n"
     ]
    },
    {
     "name": "stdout",
     "output_type": "stream",
     "text": [
      "Epoch 93: \n",
      " Accuracy - train: 0.9989583333333333 | test: 0.9796666666666667 \n",
      " Loss - train: 1.4622125625610352 | test: 1.4812297821044922\n"
     ]
    },
    {
     "name": "stderr",
     "output_type": "stream",
     "text": [
      "100%|█████████████████████████████████████████████████████████████████████████████████| 80/80 [00:00<00:00, 408.54it/s]\n"
     ]
    },
    {
     "name": "stdout",
     "output_type": "stream",
     "text": [
      "Epoch 94: \n",
      " Accuracy - train: 0.99875 | test: 0.9785 \n",
      " Loss - train: 1.462449550628662 | test: 1.4830434322357178\n"
     ]
    },
    {
     "name": "stderr",
     "output_type": "stream",
     "text": [
      "100%|█████████████████████████████████████████████████████████████████████████████████| 80/80 [00:00<00:00, 390.13it/s]\n"
     ]
    },
    {
     "name": "stdout",
     "output_type": "stream",
     "text": [
      "Epoch 95: \n",
      " Accuracy - train: 0.9987083333333333 | test: 0.9783333333333334 \n",
      " Loss - train: 1.4625496864318848 | test: 1.4828518629074097\n"
     ]
    },
    {
     "name": "stderr",
     "output_type": "stream",
     "text": [
      "100%|█████████████████████████████████████████████████████████████████████████████████| 80/80 [00:00<00:00, 393.04it/s]\n"
     ]
    },
    {
     "name": "stdout",
     "output_type": "stream",
     "text": [
      "Epoch 96: \n",
      " Accuracy - train: 0.9979166666666667 | test: 0.9778333333333333 \n",
      " Loss - train: 1.4631949663162231 | test: 1.4831310510635376\n"
     ]
    },
    {
     "name": "stderr",
     "output_type": "stream",
     "text": [
      "100%|█████████████████████████████████████████████████████████████████████████████████| 80/80 [00:00<00:00, 391.79it/s]\n"
     ]
    },
    {
     "name": "stdout",
     "output_type": "stream",
     "text": [
      "Epoch 97: \n",
      " Accuracy - train: 0.998875 | test: 0.9781666666666666 \n",
      " Loss - train: 1.4623209238052368 | test: 1.4828935861587524\n"
     ]
    },
    {
     "name": "stderr",
     "output_type": "stream",
     "text": [
      "100%|█████████████████████████████████████████████████████████████████████████████████| 80/80 [00:00<00:00, 387.65it/s]\n"
     ]
    },
    {
     "name": "stdout",
     "output_type": "stream",
     "text": [
      "Epoch 98: \n",
      " Accuracy - train: 0.9987083333333333 | test: 0.9753333333333334 \n",
      " Loss - train: 1.4625566005706787 | test: 1.485512375831604\n"
     ]
    },
    {
     "name": "stderr",
     "output_type": "stream",
     "text": [
      "100%|█████████████████████████████████████████████████████████████████████████████████| 80/80 [00:00<00:00, 386.52it/s]\n"
     ]
    },
    {
     "name": "stdout",
     "output_type": "stream",
     "text": [
      "Epoch 99: \n",
      " Accuracy - train: 0.9984166666666666 | test: 0.9766666666666667 \n",
      " Loss - train: 1.4628251791000366 | test: 1.4843900203704834\n"
     ]
    },
    {
     "name": "stderr",
     "output_type": "stream",
     "text": [
      "100%|█████████████████████████████████████████████████████████████████████████████████| 80/80 [00:00<00:00, 384.83it/s]\n"
     ]
    },
    {
     "name": "stdout",
     "output_type": "stream",
     "text": [
      "Epoch 100: \n",
      " Accuracy - train: 0.9985833333333334 | test: 0.9761666666666666 \n",
      " Loss - train: 1.4626469612121582 | test: 1.4848003387451172\n"
     ]
    },
    {
     "name": "stderr",
     "output_type": "stream",
     "text": [
      "100%|█████████████████████████████████████████████████████████████████████████████████| 80/80 [00:00<00:00, 377.95it/s]\n"
     ]
    },
    {
     "name": "stdout",
     "output_type": "stream",
     "text": [
      "Epoch 101: \n",
      " Accuracy - train: 0.998625 | test: 0.9778333333333333 \n",
      " Loss - train: 1.4624642133712769 | test: 1.4834680557250977\n"
     ]
    },
    {
     "name": "stderr",
     "output_type": "stream",
     "text": [
      "100%|█████████████████████████████████████████████████████████████████████████████████| 80/80 [00:00<00:00, 386.65it/s]\n"
     ]
    },
    {
     "name": "stdout",
     "output_type": "stream",
     "text": [
      "Epoch 102: \n",
      " Accuracy - train: 0.99825 | test: 0.9768333333333333 \n",
      " Loss - train: 1.462915062904358 | test: 1.4848302602767944\n"
     ]
    },
    {
     "name": "stderr",
     "output_type": "stream",
     "text": [
      "100%|█████████████████████████████████████████████████████████████████████████████████| 80/80 [00:00<00:00, 384.38it/s]\n"
     ]
    },
    {
     "name": "stdout",
     "output_type": "stream",
     "text": [
      "Epoch 103: \n",
      " Accuracy - train: 0.99875 | test: 0.9775 \n",
      " Loss - train: 1.4623924493789673 | test: 1.4835481643676758\n"
     ]
    },
    {
     "name": "stderr",
     "output_type": "stream",
     "text": [
      "100%|█████████████████████████████████████████████████████████████████████████████████| 80/80 [00:00<00:00, 365.02it/s]\n"
     ]
    },
    {
     "name": "stdout",
     "output_type": "stream",
     "text": [
      "Epoch 104: \n",
      " Accuracy - train: 0.9980833333333333 | test: 0.9756666666666667 \n",
      " Loss - train: 1.4631199836730957 | test: 1.4856553077697754\n"
     ]
    },
    {
     "name": "stderr",
     "output_type": "stream",
     "text": [
      "100%|█████████████████████████████████████████████████████████████████████████████████| 80/80 [00:00<00:00, 374.98it/s]\n"
     ]
    },
    {
     "name": "stdout",
     "output_type": "stream",
     "text": [
      "Epoch 105: \n",
      " Accuracy - train: 0.99875 | test: 0.976 \n",
      " Loss - train: 1.4625463485717773 | test: 1.484660267829895\n"
     ]
    },
    {
     "name": "stderr",
     "output_type": "stream",
     "text": [
      "100%|█████████████████████████████████████████████████████████████████████████████████| 80/80 [00:00<00:00, 367.03it/s]\n"
     ]
    },
    {
     "name": "stdout",
     "output_type": "stream",
     "text": [
      "Epoch 106: \n",
      " Accuracy - train: 0.9990416666666667 | test: 0.9783333333333334 \n",
      " Loss - train: 1.4621671438217163 | test: 1.482612133026123\n"
     ]
    },
    {
     "name": "stderr",
     "output_type": "stream",
     "text": [
      "100%|█████████████████████████████████████████████████████████████████████████████████| 80/80 [00:00<00:00, 360.45it/s]\n"
     ]
    },
    {
     "name": "stdout",
     "output_type": "stream",
     "text": [
      "Epoch 107: \n",
      " Accuracy - train: 0.9990833333333333 | test: 0.98 \n",
      " Loss - train: 1.4620693922042847 | test: 1.481407880783081\n"
     ]
    },
    {
     "name": "stderr",
     "output_type": "stream",
     "text": [
      "100%|█████████████████████████████████████████████████████████████████████████████████| 80/80 [00:00<00:00, 347.39it/s]\n"
     ]
    },
    {
     "name": "stdout",
     "output_type": "stream",
     "text": [
      "Epoch 108: \n",
      " Accuracy - train: 0.9990833333333333 | test: 0.9801666666666666 \n",
      " Loss - train: 1.4620656967163086 | test: 1.4809861183166504\n"
     ]
    },
    {
     "name": "stderr",
     "output_type": "stream",
     "text": [
      "100%|█████████████████████████████████████████████████████████████████████████████████| 80/80 [00:00<00:00, 358.53it/s]\n"
     ]
    },
    {
     "name": "stdout",
     "output_type": "stream",
     "text": [
      "Epoch 109: \n",
      " Accuracy - train: 0.998875 | test: 0.979 \n",
      " Loss - train: 1.4622677564620972 | test: 1.48215913772583\n"
     ]
    },
    {
     "name": "stderr",
     "output_type": "stream",
     "text": [
      "100%|█████████████████████████████████████████████████████████████████████████████████| 80/80 [00:00<00:00, 358.06it/s]\n"
     ]
    },
    {
     "name": "stdout",
     "output_type": "stream",
     "text": [
      "Epoch 110: \n",
      " Accuracy - train: 0.9990416666666667 | test: 0.9786666666666667 \n",
      " Loss - train: 1.4621226787567139 | test: 1.4824072122573853\n"
     ]
    },
    {
     "name": "stderr",
     "output_type": "stream",
     "text": [
      "100%|█████████████████████████████████████████████████████████████████████████████████| 80/80 [00:00<00:00, 348.74it/s]\n"
     ]
    },
    {
     "name": "stdout",
     "output_type": "stream",
     "text": [
      "Epoch 111: \n",
      " Accuracy - train: 0.9989166666666667 | test: 0.9775 \n",
      " Loss - train: 1.4622161388397217 | test: 1.483135461807251\n"
     ]
    },
    {
     "name": "stderr",
     "output_type": "stream",
     "text": [
      "100%|█████████████████████████████████████████████████████████████████████████████████| 80/80 [00:00<00:00, 351.69it/s]\n"
     ]
    },
    {
     "name": "stdout",
     "output_type": "stream",
     "text": [
      "Epoch 112: \n",
      " Accuracy - train: 0.9990833333333333 | test: 0.9783333333333334 \n",
      " Loss - train: 1.4620729684829712 | test: 1.4824061393737793\n"
     ]
    },
    {
     "name": "stderr",
     "output_type": "stream",
     "text": [
      "100%|█████████████████████████████████████████████████████████████████████████████████| 80/80 [00:00<00:00, 353.56it/s]\n"
     ]
    },
    {
     "name": "stdout",
     "output_type": "stream",
     "text": [
      "Epoch 113: \n",
      " Accuracy - train: 0.999 | test: 0.9788333333333333 \n",
      " Loss - train: 1.4621973037719727 | test: 1.4825502634048462\n"
     ]
    },
    {
     "name": "stderr",
     "output_type": "stream",
     "text": [
      "100%|█████████████████████████████████████████████████████████████████████████████████| 80/80 [00:00<00:00, 339.14it/s]\n"
     ]
    },
    {
     "name": "stdout",
     "output_type": "stream",
     "text": [
      "Epoch 114: \n",
      " Accuracy - train: 0.9989166666666667 | test: 0.9786666666666667 \n",
      " Loss - train: 1.462251901626587 | test: 1.4824045896530151\n"
     ]
    },
    {
     "name": "stderr",
     "output_type": "stream",
     "text": [
      "100%|█████████████████████████████████████████████████████████████████████████████████| 80/80 [00:00<00:00, 326.11it/s]\n"
     ]
    },
    {
     "name": "stdout",
     "output_type": "stream",
     "text": [
      "Epoch 115: \n",
      " Accuracy - train: 0.9990416666666667 | test: 0.9795 \n",
      " Loss - train: 1.4621168375015259 | test: 1.4816067218780518\n"
     ]
    },
    {
     "name": "stderr",
     "output_type": "stream",
     "text": [
      "100%|█████████████████████████████████████████████████████████████████████████████████| 80/80 [00:00<00:00, 326.27it/s]\n"
     ]
    },
    {
     "name": "stdout",
     "output_type": "stream",
     "text": [
      "Epoch 116: \n",
      " Accuracy - train: 0.9989166666666667 | test: 0.9781666666666666 \n",
      " Loss - train: 1.4622044563293457 | test: 1.4824388027191162\n"
     ]
    },
    {
     "name": "stderr",
     "output_type": "stream",
     "text": [
      "100%|█████████████████████████████████████████████████████████████████████████████████| 80/80 [00:00<00:00, 321.67it/s]\n"
     ]
    },
    {
     "name": "stdout",
     "output_type": "stream",
     "text": [
      "Epoch 117: \n",
      " Accuracy - train: 0.9987916666666666 | test: 0.9778333333333333 \n",
      " Loss - train: 1.462448239326477 | test: 1.4831693172454834\n"
     ]
    },
    {
     "name": "stderr",
     "output_type": "stream",
     "text": [
      "100%|█████████████████████████████████████████████████████████████████████████████████| 80/80 [00:00<00:00, 335.45it/s]\n"
     ]
    },
    {
     "name": "stdout",
     "output_type": "stream",
     "text": [
      "Epoch 118: \n",
      " Accuracy - train: 0.9987916666666666 | test: 0.9763333333333334 \n",
      " Loss - train: 1.462351679801941 | test: 1.4846892356872559\n"
     ]
    },
    {
     "name": "stderr",
     "output_type": "stream",
     "text": [
      "100%|█████████████████████████████████████████████████████████████████████████████████| 80/80 [00:00<00:00, 362.51it/s]\n"
     ]
    },
    {
     "name": "stdout",
     "output_type": "stream",
     "text": [
      "Epoch 119: \n",
      " Accuracy - train: 0.9978333333333333 | test: 0.978 \n",
      " Loss - train: 1.4633328914642334 | test: 1.4834092855453491\n"
     ]
    },
    {
     "name": "stderr",
     "output_type": "stream",
     "text": [
      "100%|█████████████████████████████████████████████████████████████████████████████████| 80/80 [00:00<00:00, 379.07it/s]\n"
     ]
    },
    {
     "name": "stdout",
     "output_type": "stream",
     "text": [
      "Epoch 120: \n",
      " Accuracy - train: 0.9978333333333333 | test: 0.9776666666666667 \n",
      " Loss - train: 1.4633361101150513 | test: 1.483452320098877\n"
     ]
    },
    {
     "name": "stderr",
     "output_type": "stream",
     "text": [
      "100%|█████████████████████████████████████████████████████████████████████████████████| 80/80 [00:00<00:00, 375.82it/s]\n"
     ]
    },
    {
     "name": "stdout",
     "output_type": "stream",
     "text": [
      "Epoch 121: \n",
      " Accuracy - train: 0.9980416666666667 | test: 0.9791666666666666 \n",
      " Loss - train: 1.463057279586792 | test: 1.4825055599212646\n"
     ]
    },
    {
     "name": "stderr",
     "output_type": "stream",
     "text": [
      "100%|█████████████████████████████████████████████████████████████████████████████████| 80/80 [00:00<00:00, 358.30it/s]\n"
     ]
    },
    {
     "name": "stdout",
     "output_type": "stream",
     "text": [
      "Epoch 122: \n",
      " Accuracy - train: 0.9984583333333333 | test: 0.9771666666666666 \n",
      " Loss - train: 1.4627363681793213 | test: 1.4834362268447876\n"
     ]
    },
    {
     "name": "stderr",
     "output_type": "stream",
     "text": [
      "100%|█████████████████████████████████████████████████████████████████████████████████| 80/80 [00:00<00:00, 361.58it/s]\n"
     ]
    },
    {
     "name": "stdout",
     "output_type": "stream",
     "text": [
      "Epoch 123: \n",
      " Accuracy - train: 0.9984166666666666 | test: 0.9776666666666667 \n",
      " Loss - train: 1.462780237197876 | test: 1.4837397336959839\n"
     ]
    },
    {
     "name": "stderr",
     "output_type": "stream",
     "text": [
      "100%|█████████████████████████████████████████████████████████████████████████████████| 80/80 [00:00<00:00, 372.76it/s]\n"
     ]
    },
    {
     "name": "stdout",
     "output_type": "stream",
     "text": [
      "Epoch 124: \n",
      " Accuracy - train: 0.9988333333333334 | test: 0.9776666666666667 \n",
      " Loss - train: 1.4623386859893799 | test: 1.4832111597061157\n"
     ]
    },
    {
     "name": "stderr",
     "output_type": "stream",
     "text": [
      "100%|█████████████████████████████████████████████████████████████████████████████████| 80/80 [00:00<00:00, 376.75it/s]\n"
     ]
    },
    {
     "name": "stdout",
     "output_type": "stream",
     "text": [
      "Epoch 125: \n",
      " Accuracy - train: 0.9989583333333333 | test: 0.9788333333333333 \n",
      " Loss - train: 1.4622232913970947 | test: 1.482548475265503\n"
     ]
    },
    {
     "name": "stderr",
     "output_type": "stream",
     "text": [
      "100%|█████████████████████████████████████████████████████████████████████████████████| 80/80 [00:00<00:00, 356.91it/s]\n"
     ]
    },
    {
     "name": "stdout",
     "output_type": "stream",
     "text": [
      "Epoch 126: \n",
      " Accuracy - train: 0.9989166666666667 | test: 0.9793333333333333 \n",
      " Loss - train: 1.4622584581375122 | test: 1.4818272590637207\n"
     ]
    },
    {
     "name": "stderr",
     "output_type": "stream",
     "text": [
      "100%|█████████████████████████████████████████████████████████████████████████████████| 80/80 [00:00<00:00, 347.68it/s]\n"
     ]
    },
    {
     "name": "stdout",
     "output_type": "stream",
     "text": [
      "Epoch 127: \n",
      " Accuracy - train: 0.999 | test: 0.9788333333333333 \n",
      " Loss - train: 1.4621350765228271 | test: 1.4826477766036987\n"
     ]
    },
    {
     "name": "stderr",
     "output_type": "stream",
     "text": [
      "100%|█████████████████████████████████████████████████████████████████████████████████| 80/80 [00:00<00:00, 352.10it/s]\n"
     ]
    },
    {
     "name": "stdout",
     "output_type": "stream",
     "text": [
      "Epoch 128: \n",
      " Accuracy - train: 0.9990833333333333 | test: 0.978 \n",
      " Loss - train: 1.462116003036499 | test: 1.4829882383346558\n"
     ]
    },
    {
     "name": "stderr",
     "output_type": "stream",
     "text": [
      "100%|█████████████████████████████████████████████████████████████████████████████████| 80/80 [00:00<00:00, 351.90it/s]\n"
     ]
    },
    {
     "name": "stdout",
     "output_type": "stream",
     "text": [
      "Epoch 129: \n",
      " Accuracy - train: 0.9990833333333333 | test: 0.9788333333333333 \n",
      " Loss - train: 1.4620544910430908 | test: 1.482603669166565\n"
     ]
    },
    {
     "name": "stderr",
     "output_type": "stream",
     "text": [
      "100%|█████████████████████████████████████████████████████████████████████████████████| 80/80 [00:00<00:00, 355.42it/s]\n"
     ]
    },
    {
     "name": "stdout",
     "output_type": "stream",
     "text": [
      "Epoch 130: \n",
      " Accuracy - train: 0.9990416666666667 | test: 0.978 \n",
      " Loss - train: 1.4621491432189941 | test: 1.4830408096313477\n"
     ]
    },
    {
     "name": "stderr",
     "output_type": "stream",
     "text": [
      "100%|█████████████████████████████████████████████████████████████████████████████████| 80/80 [00:00<00:00, 350.70it/s]\n"
     ]
    },
    {
     "name": "stdout",
     "output_type": "stream",
     "text": [
      "Epoch 131: \n",
      " Accuracy - train: 0.9989583333333333 | test: 0.9775 \n",
      " Loss - train: 1.4621621370315552 | test: 1.4837936162948608\n"
     ]
    },
    {
     "name": "stderr",
     "output_type": "stream",
     "text": [
      "100%|█████████████████████████████████████████████████████████████████████████████████| 80/80 [00:00<00:00, 357.22it/s]\n"
     ]
    },
    {
     "name": "stdout",
     "output_type": "stream",
     "text": [
      "Epoch 132: \n",
      " Accuracy - train: 0.9989583333333333 | test: 0.9775 \n",
      " Loss - train: 1.4622236490249634 | test: 1.4837405681610107\n"
     ]
    },
    {
     "name": "stderr",
     "output_type": "stream",
     "text": [
      "100%|█████████████████████████████████████████████████████████████████████████████████| 80/80 [00:00<00:00, 330.66it/s]\n"
     ]
    },
    {
     "name": "stdout",
     "output_type": "stream",
     "text": [
      "Epoch 133: \n",
      " Accuracy - train: 0.999125 | test: 0.9781666666666666 \n",
      " Loss - train: 1.4620487689971924 | test: 1.482831358909607\n"
     ]
    },
    {
     "name": "stderr",
     "output_type": "stream",
     "text": [
      "100%|█████████████████████████████████████████████████████████████████████████████████| 80/80 [00:00<00:00, 326.71it/s]\n"
     ]
    },
    {
     "name": "stdout",
     "output_type": "stream",
     "text": [
      "Epoch 134: \n",
      " Accuracy - train: 0.999 | test: 0.9783333333333334 \n",
      " Loss - train: 1.4621421098709106 | test: 1.4825576543807983\n"
     ]
    },
    {
     "name": "stderr",
     "output_type": "stream",
     "text": [
      "100%|█████████████████████████████████████████████████████████████████████████████████| 80/80 [00:00<00:00, 362.16it/s]\n"
     ]
    },
    {
     "name": "stdout",
     "output_type": "stream",
     "text": [
      "Epoch 135: \n",
      " Accuracy - train: 0.9989583333333333 | test: 0.9796666666666667 \n",
      " Loss - train: 1.462191104888916 | test: 1.4813530445098877\n"
     ]
    },
    {
     "name": "stderr",
     "output_type": "stream",
     "text": [
      "100%|█████████████████████████████████████████████████████████████████████████████████| 80/80 [00:00<00:00, 366.80it/s]\n"
     ]
    },
    {
     "name": "stdout",
     "output_type": "stream",
     "text": [
      "Epoch 136: \n",
      " Accuracy - train: 0.99925 | test: 0.9811666666666666 \n",
      " Loss - train: 1.4619221687316895 | test: 1.4799425601959229\n"
     ]
    },
    {
     "name": "stderr",
     "output_type": "stream",
     "text": [
      "100%|█████████████████████████████████████████████████████████████████████████████████| 80/80 [00:00<00:00, 364.79it/s]\n"
     ]
    },
    {
     "name": "stdout",
     "output_type": "stream",
     "text": [
      "Epoch 137: \n",
      " Accuracy - train: 0.99875 | test: 0.9783333333333334 \n",
      " Loss - train: 1.4623823165893555 | test: 1.4832472801208496\n"
     ]
    },
    {
     "name": "stderr",
     "output_type": "stream",
     "text": [
      "100%|█████████████████████████████████████████████████████████████████████████████████| 80/80 [00:00<00:00, 362.62it/s]\n"
     ]
    },
    {
     "name": "stdout",
     "output_type": "stream",
     "text": [
      "Epoch 138: \n",
      " Accuracy - train: 0.9990833333333333 | test: 0.9775 \n",
      " Loss - train: 1.4620680809020996 | test: 1.4833757877349854\n"
     ]
    },
    {
     "name": "stderr",
     "output_type": "stream",
     "text": [
      "100%|█████████████████████████████████████████████████████████████████████████████████| 80/80 [00:00<00:00, 342.77it/s]\n"
     ]
    },
    {
     "name": "stdout",
     "output_type": "stream",
     "text": [
      "Epoch 139: \n",
      " Accuracy - train: 0.99925 | test: 0.9793333333333333 \n",
      " Loss - train: 1.4619231224060059 | test: 1.4813482761383057\n"
     ]
    },
    {
     "name": "stderr",
     "output_type": "stream",
     "text": [
      "100%|█████████████████████████████████████████████████████████████████████████████████| 80/80 [00:00<00:00, 357.36it/s]\n"
     ]
    },
    {
     "name": "stdout",
     "output_type": "stream",
     "text": [
      "Epoch 140: \n",
      " Accuracy - train: 0.999 | test: 0.9786666666666667 \n",
      " Loss - train: 1.4622000455856323 | test: 1.482323408126831\n"
     ]
    },
    {
     "name": "stderr",
     "output_type": "stream",
     "text": [
      "100%|█████████████████████████████████████████████████████████████████████████████████| 80/80 [00:00<00:00, 367.53it/s]\n"
     ]
    },
    {
     "name": "stdout",
     "output_type": "stream",
     "text": [
      "Epoch 141: \n",
      " Accuracy - train: 0.999125 | test: 0.979 \n",
      " Loss - train: 1.4620494842529297 | test: 1.4820550680160522\n"
     ]
    },
    {
     "name": "stderr",
     "output_type": "stream",
     "text": [
      "100%|█████████████████████████████████████████████████████████████████████████████████| 80/80 [00:00<00:00, 364.38it/s]\n"
     ]
    },
    {
     "name": "stdout",
     "output_type": "stream",
     "text": [
      "Epoch 142: \n",
      " Accuracy - train: 0.9990833333333333 | test: 0.9796666666666667 \n",
      " Loss - train: 1.462065577507019 | test: 1.4814404249191284\n"
     ]
    },
    {
     "name": "stderr",
     "output_type": "stream",
     "text": [
      "100%|█████████████████████████████████████████████████████████████████████████████████| 80/80 [00:00<00:00, 350.97it/s]\n"
     ]
    },
    {
     "name": "stdout",
     "output_type": "stream",
     "text": [
      "Epoch 143: \n",
      " Accuracy - train: 0.9991666666666666 | test: 0.979 \n",
      " Loss - train: 1.4619710445404053 | test: 1.4821999073028564\n"
     ]
    },
    {
     "name": "stderr",
     "output_type": "stream",
     "text": [
      "100%|█████████████████████████████████████████████████████████████████████████████████| 80/80 [00:00<00:00, 369.86it/s]\n"
     ]
    },
    {
     "name": "stdout",
     "output_type": "stream",
     "text": [
      "Epoch 144: \n",
      " Accuracy - train: 0.9985 | test: 0.9758333333333333 \n",
      " Loss - train: 1.4627143144607544 | test: 1.4848992824554443\n"
     ]
    },
    {
     "name": "stderr",
     "output_type": "stream",
     "text": [
      "100%|█████████████████████████████████████████████████████████████████████████████████| 80/80 [00:00<00:00, 368.98it/s]\n"
     ]
    },
    {
     "name": "stdout",
     "output_type": "stream",
     "text": [
      "Epoch 145: \n",
      " Accuracy - train: 0.9987916666666666 | test: 0.9758333333333333 \n",
      " Loss - train: 1.4624309539794922 | test: 1.4848796129226685\n"
     ]
    },
    {
     "name": "stderr",
     "output_type": "stream",
     "text": [
      "100%|█████████████████████████████████████████████████████████████████████████████████| 80/80 [00:00<00:00, 372.26it/s]\n"
     ]
    },
    {
     "name": "stdout",
     "output_type": "stream",
     "text": [
      "Epoch 146: \n",
      " Accuracy - train: 0.9989166666666667 | test: 0.9776666666666667 \n",
      " Loss - train: 1.462335228919983 | test: 1.4832470417022705\n"
     ]
    },
    {
     "name": "stderr",
     "output_type": "stream",
     "text": [
      "100%|█████████████████████████████████████████████████████████████████████████████████| 80/80 [00:00<00:00, 380.33it/s]\n"
     ]
    },
    {
     "name": "stdout",
     "output_type": "stream",
     "text": [
      "Epoch 147: \n",
      " Accuracy - train: 0.9987916666666666 | test: 0.9771666666666666 \n",
      " Loss - train: 1.4623630046844482 | test: 1.4839015007019043\n"
     ]
    },
    {
     "name": "stderr",
     "output_type": "stream",
     "text": [
      "100%|█████████████████████████████████████████████████████████████████████████████████| 80/80 [00:00<00:00, 380.38it/s]\n"
     ]
    },
    {
     "name": "stdout",
     "output_type": "stream",
     "text": [
      "Epoch 148: \n",
      " Accuracy - train: 0.9989583333333333 | test: 0.9776666666666667 \n",
      " Loss - train: 1.4622727632522583 | test: 1.4835411310195923\n"
     ]
    },
    {
     "name": "stderr",
     "output_type": "stream",
     "text": [
      "100%|█████████████████████████████████████████████████████████████████████████████████| 80/80 [00:00<00:00, 371.57it/s]\n"
     ]
    },
    {
     "name": "stdout",
     "output_type": "stream",
     "text": [
      "Epoch 149: \n",
      " Accuracy - train: 0.9985416666666667 | test: 0.9771666666666666 \n",
      " Loss - train: 1.462651014328003 | test: 1.4840240478515625\n"
     ]
    },
    {
     "name": "stderr",
     "output_type": "stream",
     "text": [
      "100%|█████████████████████████████████████████████████████████████████████████████████| 80/80 [00:00<00:00, 386.22it/s]\n"
     ]
    },
    {
     "name": "stdout",
     "output_type": "stream",
     "text": [
      "Epoch 150: \n",
      " Accuracy - train: 0.9987916666666666 | test: 0.9808333333333333 \n",
      " Loss - train: 1.4623804092407227 | test: 1.4806230068206787\n"
     ]
    },
    {
     "name": "stderr",
     "output_type": "stream",
     "text": [
      "100%|█████████████████████████████████████████████████████████████████████████████████| 80/80 [00:00<00:00, 366.57it/s]\n"
     ]
    },
    {
     "name": "stdout",
     "output_type": "stream",
     "text": [
      "Epoch 151: \n",
      " Accuracy - train: 0.999125 | test: 0.9811666666666666 \n",
      " Loss - train: 1.4620898962020874 | test: 1.4799879789352417\n"
     ]
    },
    {
     "name": "stderr",
     "output_type": "stream",
     "text": [
      "100%|█████████████████████████████████████████████████████████████████████████████████| 80/80 [00:00<00:00, 371.56it/s]\n"
     ]
    },
    {
     "name": "stdout",
     "output_type": "stream",
     "text": [
      "Epoch 152: \n",
      " Accuracy - train: 0.9990416666666667 | test: 0.9808333333333333 \n",
      " Loss - train: 1.4621220827102661 | test: 1.4807031154632568\n"
     ]
    },
    {
     "name": "stderr",
     "output_type": "stream",
     "text": [
      "100%|█████████████████████████████████████████████████████████████████████████████████| 80/80 [00:00<00:00, 366.03it/s]\n"
     ]
    },
    {
     "name": "stdout",
     "output_type": "stream",
     "text": [
      "Epoch 153: \n",
      " Accuracy - train: 0.9989583333333333 | test: 0.981 \n",
      " Loss - train: 1.462225317955017 | test: 1.480311393737793\n"
     ]
    },
    {
     "name": "stderr",
     "output_type": "stream",
     "text": [
      "100%|█████████████████████████████████████████████████████████████████████████████████| 80/80 [00:00<00:00, 352.45it/s]\n"
     ]
    },
    {
     "name": "stdout",
     "output_type": "stream",
     "text": [
      "Epoch 154: \n",
      " Accuracy - train: 0.9987083333333333 | test: 0.9785 \n",
      " Loss - train: 1.462490439414978 | test: 1.4829469919204712\n"
     ]
    },
    {
     "name": "stderr",
     "output_type": "stream",
     "text": [
      "100%|█████████████████████████████████████████████████████████████████████████████████| 80/80 [00:00<00:00, 365.26it/s]\n"
     ]
    },
    {
     "name": "stdout",
     "output_type": "stream",
     "text": [
      "Epoch 155: \n",
      " Accuracy - train: 0.99875 | test: 0.9783333333333334 \n",
      " Loss - train: 1.462443232536316 | test: 1.4832701683044434\n"
     ]
    },
    {
     "name": "stderr",
     "output_type": "stream",
     "text": [
      "100%|█████████████████████████████████████████████████████████████████████████████████| 80/80 [00:00<00:00, 368.58it/s]\n"
     ]
    },
    {
     "name": "stdout",
     "output_type": "stream",
     "text": [
      "Epoch 156: \n",
      " Accuracy - train: 0.999125 | test: 0.9796666666666667 \n",
      " Loss - train: 1.4620534181594849 | test: 1.4812541007995605\n"
     ]
    },
    {
     "name": "stderr",
     "output_type": "stream",
     "text": [
      "100%|█████████████████████████████████████████████████████████████████████████████████| 80/80 [00:00<00:00, 364.82it/s]\n"
     ]
    },
    {
     "name": "stdout",
     "output_type": "stream",
     "text": [
      "Epoch 157: \n",
      " Accuracy - train: 0.9990416666666667 | test: 0.9796666666666667 \n",
      " Loss - train: 1.4621493816375732 | test: 1.4815800189971924\n"
     ]
    },
    {
     "name": "stderr",
     "output_type": "stream",
     "text": [
      "100%|█████████████████████████████████████████████████████████████████████████████████| 80/80 [00:00<00:00, 346.36it/s]\n"
     ]
    },
    {
     "name": "stdout",
     "output_type": "stream",
     "text": [
      "Epoch 158: \n",
      " Accuracy - train: 0.999 | test: 0.979 \n",
      " Loss - train: 1.4621660709381104 | test: 1.4823704957962036\n"
     ]
    },
    {
     "name": "stderr",
     "output_type": "stream",
     "text": [
      "100%|█████████████████████████████████████████████████████████████████████████████████| 80/80 [00:00<00:00, 312.56it/s]\n"
     ]
    },
    {
     "name": "stdout",
     "output_type": "stream",
     "text": [
      "Epoch 159: \n",
      " Accuracy - train: 0.9991666666666666 | test: 0.9801666666666666 \n",
      " Loss - train: 1.4619929790496826 | test: 1.4810051918029785\n"
     ]
    },
    {
     "name": "stderr",
     "output_type": "stream",
     "text": [
      "100%|█████████████████████████████████████████████████████████████████████████████████| 80/80 [00:00<00:00, 342.98it/s]\n"
     ]
    },
    {
     "name": "stdout",
     "output_type": "stream",
     "text": [
      "Epoch 160: \n",
      " Accuracy - train: 0.9988333333333334 | test: 0.9775 \n",
      " Loss - train: 1.462374210357666 | test: 1.4830933809280396\n"
     ]
    },
    {
     "name": "stderr",
     "output_type": "stream",
     "text": [
      "100%|█████████████████████████████████████████████████████████████████████████████████| 80/80 [00:00<00:00, 339.04it/s]\n"
     ]
    },
    {
     "name": "stdout",
     "output_type": "stream",
     "text": [
      "Epoch 161: \n",
      " Accuracy - train: 0.9992083333333334 | test: 0.978 \n",
      " Loss - train: 1.4619412422180176 | test: 1.482582688331604\n"
     ]
    },
    {
     "name": "stderr",
     "output_type": "stream",
     "text": [
      "100%|█████████████████████████████████████████████████████████████████████████████████| 80/80 [00:00<00:00, 345.60it/s]\n"
     ]
    },
    {
     "name": "stdout",
     "output_type": "stream",
     "text": [
      "Epoch 162: \n",
      " Accuracy - train: 0.9991666666666666 | test: 0.9781666666666666 \n",
      " Loss - train: 1.4619866609573364 | test: 1.482887864112854\n"
     ]
    },
    {
     "name": "stderr",
     "output_type": "stream",
     "text": [
      "100%|█████████████████████████████████████████████████████████████████████████████████| 80/80 [00:00<00:00, 344.65it/s]\n"
     ]
    },
    {
     "name": "stdout",
     "output_type": "stream",
     "text": [
      "Epoch 163: \n",
      " Accuracy - train: 0.9990833333333333 | test: 0.9798333333333333 \n",
      " Loss - train: 1.4620542526245117 | test: 1.4816577434539795\n"
     ]
    },
    {
     "name": "stderr",
     "output_type": "stream",
     "text": [
      "100%|█████████████████████████████████████████████████████████████████████████████████| 80/80 [00:00<00:00, 359.25it/s]\n"
     ]
    },
    {
     "name": "stdout",
     "output_type": "stream",
     "text": [
      "Epoch 164: \n",
      " Accuracy - train: 0.999125 | test: 0.9798333333333333 \n",
      " Loss - train: 1.4620441198349 | test: 1.4814505577087402\n"
     ]
    },
    {
     "name": "stderr",
     "output_type": "stream",
     "text": [
      "100%|█████████████████████████████████████████████████████████████████████████████████| 80/80 [00:00<00:00, 309.88it/s]\n"
     ]
    },
    {
     "name": "stdout",
     "output_type": "stream",
     "text": [
      "Epoch 165: \n",
      " Accuracy - train: 0.9989583333333333 | test: 0.98 \n",
      " Loss - train: 1.462215542793274 | test: 1.481342077255249\n"
     ]
    },
    {
     "name": "stderr",
     "output_type": "stream",
     "text": [
      "100%|█████████████████████████████████████████████████████████████████████████████████| 80/80 [00:00<00:00, 326.76it/s]\n"
     ]
    },
    {
     "name": "stdout",
     "output_type": "stream",
     "text": [
      "Epoch 166: \n",
      " Accuracy - train: 0.9991666666666666 | test: 0.9796666666666667 \n",
      " Loss - train: 1.4619736671447754 | test: 1.4814449548721313\n"
     ]
    },
    {
     "name": "stderr",
     "output_type": "stream",
     "text": [
      "100%|█████████████████████████████████████████████████████████████████████████████████| 80/80 [00:00<00:00, 352.04it/s]\n"
     ]
    },
    {
     "name": "stdout",
     "output_type": "stream",
     "text": [
      "Epoch 167: \n",
      " Accuracy - train: 0.9989583333333333 | test: 0.979 \n",
      " Loss - train: 1.4622949361801147 | test: 1.4824327230453491\n"
     ]
    },
    {
     "name": "stderr",
     "output_type": "stream",
     "text": [
      "100%|█████████████████████████████████████████████████████████████████████████████████| 80/80 [00:00<00:00, 364.84it/s]\n"
     ]
    },
    {
     "name": "stdout",
     "output_type": "stream",
     "text": [
      "Epoch 168: \n",
      " Accuracy - train: 0.9989583333333333 | test: 0.9776666666666667 \n",
      " Loss - train: 1.4622529745101929 | test: 1.4834705591201782\n"
     ]
    },
    {
     "name": "stderr",
     "output_type": "stream",
     "text": [
      "100%|█████████████████████████████████████████████████████████████████████████████████| 80/80 [00:00<00:00, 359.78it/s]\n"
     ]
    },
    {
     "name": "stdout",
     "output_type": "stream",
     "text": [
      "Epoch 169: \n",
      " Accuracy - train: 0.9991666666666666 | test: 0.9805 \n",
      " Loss - train: 1.461982250213623 | test: 1.4810322523117065\n"
     ]
    },
    {
     "name": "stderr",
     "output_type": "stream",
     "text": [
      "100%|█████████████████████████████████████████████████████████████████████████████████| 80/80 [00:00<00:00, 360.63it/s]\n"
     ]
    },
    {
     "name": "stdout",
     "output_type": "stream",
     "text": [
      "Epoch 170: \n",
      " Accuracy - train: 0.9989166666666667 | test: 0.9788333333333333 \n",
      " Loss - train: 1.4623030424118042 | test: 1.4823092222213745\n"
     ]
    },
    {
     "name": "stderr",
     "output_type": "stream",
     "text": [
      "100%|█████████████████████████████████████████████████████████████████████████████████| 80/80 [00:00<00:00, 363.57it/s]\n"
     ]
    },
    {
     "name": "stdout",
     "output_type": "stream",
     "text": [
      "Epoch 171: \n",
      " Accuracy - train: 0.999125 | test: 0.9783333333333334 \n",
      " Loss - train: 1.4620600938796997 | test: 1.4829596281051636\n"
     ]
    },
    {
     "name": "stderr",
     "output_type": "stream",
     "text": [
      "100%|█████████████████████████████████████████████████████████████████████████████████| 80/80 [00:00<00:00, 341.51it/s]\n"
     ]
    },
    {
     "name": "stdout",
     "output_type": "stream",
     "text": [
      "Epoch 172: \n",
      " Accuracy - train: 0.9989166666666667 | test: 0.9783333333333334 \n",
      " Loss - train: 1.4622437953948975 | test: 1.4827841520309448\n"
     ]
    },
    {
     "name": "stderr",
     "output_type": "stream",
     "text": [
      "100%|█████████████████████████████████████████████████████████████████████████████████| 80/80 [00:00<00:00, 355.20it/s]\n"
     ]
    },
    {
     "name": "stdout",
     "output_type": "stream",
     "text": [
      "Epoch 173: \n",
      " Accuracy - train: 0.9989583333333333 | test: 0.9773333333333334 \n",
      " Loss - train: 1.4622247219085693 | test: 1.483137845993042\n"
     ]
    },
    {
     "name": "stderr",
     "output_type": "stream",
     "text": [
      "100%|█████████████████████████████████████████████████████████████████████████████████| 80/80 [00:00<00:00, 312.80it/s]\n"
     ]
    },
    {
     "name": "stdout",
     "output_type": "stream",
     "text": [
      "Epoch 174: \n",
      " Accuracy - train: 0.999125 | test: 0.9801666666666666 \n",
      " Loss - train: 1.462033748626709 | test: 1.4812077283859253\n"
     ]
    },
    {
     "name": "stderr",
     "output_type": "stream",
     "text": [
      "100%|█████████████████████████████████████████████████████████████████████████████████| 80/80 [00:00<00:00, 345.01it/s]\n"
     ]
    },
    {
     "name": "stdout",
     "output_type": "stream",
     "text": [
      "Epoch 175: \n",
      " Accuracy - train: 0.9992083333333334 | test: 0.9793333333333333 \n",
      " Loss - train: 1.4619635343551636 | test: 1.4815583229064941\n"
     ]
    },
    {
     "name": "stderr",
     "output_type": "stream",
     "text": [
      "100%|█████████████████████████████████████████████████████████████████████████████████| 80/80 [00:00<00:00, 324.89it/s]\n"
     ]
    },
    {
     "name": "stdout",
     "output_type": "stream",
     "text": [
      "Epoch 176: \n",
      " Accuracy - train: 0.999 | test: 0.9783333333333334 \n",
      " Loss - train: 1.4621862173080444 | test: 1.4827181100845337\n"
     ]
    },
    {
     "name": "stderr",
     "output_type": "stream",
     "text": [
      "100%|█████████████████████████████████████████████████████████████████████████████████| 80/80 [00:00<00:00, 335.81it/s]\n"
     ]
    },
    {
     "name": "stdout",
     "output_type": "stream",
     "text": [
      "Epoch 177: \n",
      " Accuracy - train: 0.99925 | test: 0.9796666666666667 \n",
      " Loss - train: 1.4618995189666748 | test: 1.4810243844985962\n"
     ]
    },
    {
     "name": "stderr",
     "output_type": "stream",
     "text": [
      "100%|█████████████████████████████████████████████████████████████████████████████████| 80/80 [00:00<00:00, 329.07it/s]\n"
     ]
    },
    {
     "name": "stdout",
     "output_type": "stream",
     "text": [
      "Epoch 178: \n",
      " Accuracy - train: 0.9992083333333334 | test: 0.9816666666666667 \n",
      " Loss - train: 1.4619487524032593 | test: 1.479952335357666\n"
     ]
    },
    {
     "name": "stderr",
     "output_type": "stream",
     "text": [
      "100%|█████████████████████████████████████████████████████████████████████████████████| 80/80 [00:00<00:00, 330.73it/s]\n"
     ]
    },
    {
     "name": "stdout",
     "output_type": "stream",
     "text": [
      "Epoch 179: \n",
      " Accuracy - train: 0.9991666666666666 | test: 0.9798333333333333 \n",
      " Loss - train: 1.4620273113250732 | test: 1.480855941772461\n"
     ]
    },
    {
     "name": "stderr",
     "output_type": "stream",
     "text": [
      "100%|█████████████████████████████████████████████████████████████████████████████████| 80/80 [00:00<00:00, 324.26it/s]\n"
     ]
    },
    {
     "name": "stdout",
     "output_type": "stream",
     "text": [
      "Epoch 180: \n",
      " Accuracy - train: 0.9986666666666667 | test: 0.9803333333333333 \n",
      " Loss - train: 1.4624519348144531 | test: 1.4811811447143555\n"
     ]
    },
    {
     "name": "stderr",
     "output_type": "stream",
     "text": [
      "100%|█████████████████████████████████████████████████████████████████████████████████| 80/80 [00:00<00:00, 327.96it/s]\n"
     ]
    },
    {
     "name": "stdout",
     "output_type": "stream",
     "text": [
      "Epoch 181: \n",
      " Accuracy - train: 0.999 | test: 0.9805 \n",
      " Loss - train: 1.4621378183364868 | test: 1.4810996055603027\n"
     ]
    },
    {
     "name": "stderr",
     "output_type": "stream",
     "text": [
      "100%|█████████████████████████████████████████████████████████████████████████████████| 80/80 [00:00<00:00, 312.38it/s]\n"
     ]
    },
    {
     "name": "stdout",
     "output_type": "stream",
     "text": [
      "Epoch 182: \n",
      " Accuracy - train: 0.9985833333333334 | test: 0.9806666666666667 \n",
      " Loss - train: 1.4625250101089478 | test: 1.4800732135772705\n"
     ]
    },
    {
     "name": "stderr",
     "output_type": "stream",
     "text": [
      "100%|█████████████████████████████████████████████████████████████████████████████████| 80/80 [00:00<00:00, 327.73it/s]\n"
     ]
    },
    {
     "name": "stdout",
     "output_type": "stream",
     "text": [
      "Epoch 183: \n",
      " Accuracy - train: 0.9985 | test: 0.9776666666666667 \n",
      " Loss - train: 1.4626833200454712 | test: 1.483935832977295\n"
     ]
    },
    {
     "name": "stderr",
     "output_type": "stream",
     "text": [
      "100%|█████████████████████████████████████████████████████████████████████████████████| 80/80 [00:00<00:00, 342.16it/s]\n"
     ]
    },
    {
     "name": "stdout",
     "output_type": "stream",
     "text": [
      "Epoch 184: \n",
      " Accuracy - train: 0.9982083333333334 | test: 0.9805 \n",
      " Loss - train: 1.462960124015808 | test: 1.4806312322616577\n"
     ]
    },
    {
     "name": "stderr",
     "output_type": "stream",
     "text": [
      "100%|█████████████████████████████████████████████████████████████████████████████████| 80/80 [00:00<00:00, 361.44it/s]\n"
     ]
    },
    {
     "name": "stdout",
     "output_type": "stream",
     "text": [
      "Epoch 185: \n",
      " Accuracy - train: 0.9992083333333334 | test: 0.98 \n",
      " Loss - train: 1.4619239568710327 | test: 1.480930209159851\n"
     ]
    },
    {
     "name": "stderr",
     "output_type": "stream",
     "text": [
      "100%|█████████████████████████████████████████████████████████████████████████████████| 80/80 [00:00<00:00, 365.88it/s]\n"
     ]
    },
    {
     "name": "stdout",
     "output_type": "stream",
     "text": [
      "Epoch 186: \n",
      " Accuracy - train: 0.9984583333333333 | test: 0.9805 \n",
      " Loss - train: 1.462658166885376 | test: 1.4811594486236572\n"
     ]
    },
    {
     "name": "stderr",
     "output_type": "stream",
     "text": [
      "100%|█████████████████████████████████████████████████████████████████████████████████| 80/80 [00:00<00:00, 368.16it/s]\n"
     ]
    },
    {
     "name": "stdout",
     "output_type": "stream",
     "text": [
      "Epoch 187: \n",
      " Accuracy - train: 0.9987083333333333 | test: 0.9771666666666666 \n",
      " Loss - train: 1.462476372718811 | test: 1.4833922386169434\n"
     ]
    },
    {
     "name": "stderr",
     "output_type": "stream",
     "text": [
      "100%|█████████████████████████████████████████████████████████████████████████████████| 80/80 [00:00<00:00, 362.94it/s]\n"
     ]
    },
    {
     "name": "stdout",
     "output_type": "stream",
     "text": [
      "Epoch 188: \n",
      " Accuracy - train: 0.9984166666666666 | test: 0.977 \n",
      " Loss - train: 1.4626821279525757 | test: 1.4842480421066284\n"
     ]
    },
    {
     "name": "stderr",
     "output_type": "stream",
     "text": [
      "100%|█████████████████████████████████████████████████████████████████████████████████| 80/80 [00:00<00:00, 311.10it/s]\n"
     ]
    },
    {
     "name": "stdout",
     "output_type": "stream",
     "text": [
      "Epoch 189: \n",
      " Accuracy - train: 0.998625 | test: 0.9776666666666667 \n",
      " Loss - train: 1.462445855140686 | test: 1.4837050437927246\n"
     ]
    },
    {
     "name": "stderr",
     "output_type": "stream",
     "text": [
      "100%|█████████████████████████████████████████████████████████████████████████████████| 80/80 [00:00<00:00, 332.45it/s]\n"
     ]
    },
    {
     "name": "stdout",
     "output_type": "stream",
     "text": [
      "Epoch 190: \n",
      " Accuracy - train: 0.9988333333333334 | test: 0.9795 \n",
      " Loss - train: 1.4623198509216309 | test: 1.4817167520523071\n"
     ]
    },
    {
     "name": "stderr",
     "output_type": "stream",
     "text": [
      "100%|█████████████████████████████████████████████████████████████████████████████████| 80/80 [00:00<00:00, 357.09it/s]\n"
     ]
    },
    {
     "name": "stdout",
     "output_type": "stream",
     "text": [
      "Epoch 191: \n",
      " Accuracy - train: 0.999 | test: 0.9805 \n",
      " Loss - train: 1.4621708393096924 | test: 1.4810340404510498\n"
     ]
    },
    {
     "name": "stderr",
     "output_type": "stream",
     "text": [
      "100%|█████████████████████████████████████████████████████████████████████████████████| 80/80 [00:00<00:00, 337.34it/s]\n"
     ]
    },
    {
     "name": "stdout",
     "output_type": "stream",
     "text": [
      "Epoch 192: \n",
      " Accuracy - train: 0.9991666666666666 | test: 0.9786666666666667 \n",
      " Loss - train: 1.4619768857955933 | test: 1.481907844543457\n"
     ]
    },
    {
     "name": "stderr",
     "output_type": "stream",
     "text": [
      "100%|█████████████████████████████████████████████████████████████████████████████████| 80/80 [00:00<00:00, 348.93it/s]\n"
     ]
    },
    {
     "name": "stdout",
     "output_type": "stream",
     "text": [
      "Epoch 193: \n",
      " Accuracy - train: 0.9991666666666666 | test: 0.9793333333333333 \n",
      " Loss - train: 1.4620028734207153 | test: 1.4817054271697998\n"
     ]
    },
    {
     "name": "stderr",
     "output_type": "stream",
     "text": [
      "100%|█████████████████████████████████████████████████████████████████████████████████| 80/80 [00:00<00:00, 341.34it/s]\n"
     ]
    },
    {
     "name": "stdout",
     "output_type": "stream",
     "text": [
      "Epoch 194: \n",
      " Accuracy - train: 0.9992083333333334 | test: 0.9808333333333333 \n",
      " Loss - train: 1.461972713470459 | test: 1.4804075956344604\n"
     ]
    },
    {
     "name": "stderr",
     "output_type": "stream",
     "text": [
      "100%|█████████████████████████████████████████████████████████████████████████████████| 80/80 [00:00<00:00, 348.80it/s]\n"
     ]
    },
    {
     "name": "stdout",
     "output_type": "stream",
     "text": [
      "Epoch 195: \n",
      " Accuracy - train: 0.9992083333333334 | test: 0.98 \n",
      " Loss - train: 1.4619781970977783 | test: 1.4814293384552002\n"
     ]
    },
    {
     "name": "stderr",
     "output_type": "stream",
     "text": [
      "100%|█████████████████████████████████████████████████████████████████████████████████| 80/80 [00:00<00:00, 333.14it/s]\n"
     ]
    },
    {
     "name": "stdout",
     "output_type": "stream",
     "text": [
      "Epoch 196: \n",
      " Accuracy - train: 0.9991666666666666 | test: 0.9795 \n",
      " Loss - train: 1.4619908332824707 | test: 1.4815304279327393\n"
     ]
    },
    {
     "name": "stderr",
     "output_type": "stream",
     "text": [
      "100%|█████████████████████████████████████████████████████████████████████████████████| 80/80 [00:00<00:00, 349.76it/s]\n"
     ]
    },
    {
     "name": "stdout",
     "output_type": "stream",
     "text": [
      "Epoch 197: \n",
      " Accuracy - train: 0.999125 | test: 0.9786666666666667 \n",
      " Loss - train: 1.4620561599731445 | test: 1.482213020324707\n"
     ]
    },
    {
     "name": "stderr",
     "output_type": "stream",
     "text": [
      "100%|█████████████████████████████████████████████████████████████████████████████████| 80/80 [00:00<00:00, 341.75it/s]\n"
     ]
    },
    {
     "name": "stdout",
     "output_type": "stream",
     "text": [
      "Epoch 198: \n",
      " Accuracy - train: 0.9991666666666666 | test: 0.9783333333333334 \n",
      " Loss - train: 1.4619861841201782 | test: 1.4827086925506592\n"
     ]
    },
    {
     "name": "stderr",
     "output_type": "stream",
     "text": [
      "100%|█████████████████████████████████████████████████████████████████████████████████| 80/80 [00:00<00:00, 341.97it/s]"
     ]
    },
    {
     "name": "stdout",
     "output_type": "stream",
     "text": [
      "Epoch 199: \n",
      " Accuracy - train: 0.9992083333333334 | test: 0.9783333333333334 \n",
      " Loss - train: 1.461927890777588 | test: 1.4824117422103882\n"
     ]
    },
    {
     "name": "stderr",
     "output_type": "stream",
     "text": [
      "\n"
     ]
    }
   ],
   "source": [
    "acc_train_all_r3000nn, loss_train_all_r3000nn, acc_test_all_r3000nn, loss_test_all_r3000nn = model_ra.train(n_epochs, batch_size, learning_rate, x_train_norm, y_mn_train, x_test_norm, y_mn_test)"
   ]
  },
  {
   "cell_type": "code",
   "execution_count": 73,
   "id": "e4e98bcc-f365-4db8-9735-fec40a8245f3",
   "metadata": {},
   "outputs": [
    {
     "data": {
      "image/png": "[encoded data removed]",
      "text/plain": [
       "<Figure size 1600x400 with 2 Axes>"
      ]
     },
     "metadata": {},
     "output_type": "display_data"
    }
   ],
   "source": [
    "vis_history(acc_train_all_r3000nn, loss_train_all_r3000nn, acc_test_all_r3000nn, loss_test_all_r3000nn)"
   ]
  },
  {
   "cell_type": "markdown",
   "id": "fa058394-c48d-428f-b517-73615f6c2e6f",
   "metadata": {},
   "source": [
    "# Далее сеть с архитектурой LeNet5"
   ]
  },
  {
   "cell_type": "code",
   "execution_count": 168,
   "id": "6e00617b-80c7-4f26-acc6-4e5001a6d007",
   "metadata": {},
   "outputs": [],
   "source": [
    "\n",
    "\n",
    "class Model_LeNet5(torch.nn.Module):\n",
    "    def __init__(self, num_classes=10,n_ch = 1,n_filt_1 = 6, n_filt_2 = 16,kernel_size_1 = 5,kernel_size_2 = 5,inp_shape = 28, hidden_size = 84):\n",
    "        super(Model_LeNet5, self).__init__()\n",
    "\n",
    "        self.conv1 = nn.Conv2d(n_ch, n_filt_1, kernel_size=kernel_size_1, stride=1, padding=0)\n",
    "        n_ch = n_filt_1\n",
    "        im_len = inp_shape - kernel_size_1 + 1\n",
    "        self.pool1 = nn.AvgPool2d(kernel_size=2, stride=2) \n",
    "        im_len = im_len / 2\n",
    "        \n",
    "        self.conv2 = nn.Conv2d(n_ch, n_filt_2, kernel_size=kernel_size_2, stride=1, padding=0) \n",
    "        im_len = im_len - kernel_size_2 + 1\n",
    "\n",
    "        self.pool2 = nn.AvgPool2d(kernel_size=2, stride=2) \n",
    "        im_len = im_len / 2\n",
    "\n",
    "        self.inp_fc_size = int(im_len * im_len) * n_filt_2\n",
    "        print(im_len)\n",
    "        self.fc1 = nn.Linear(self.inp_fc_size, hidden_size)  \n",
    "        #self.fc2 = nn.Linear(120, hidden_size)\n",
    "        self.fc3 = nn.Linear(hidden_size, num_classes)\n",
    "\n",
    "    def forward(self, x):\n",
    "        x = torch.relu(self.conv1(x))  \n",
    "        x = self.pool1(x)  \n",
    "        \n",
    "        x = torch.relu(self.conv2(x))  \n",
    "        x = self.pool2(x)\n",
    "        \n",
    "        x = x.view(-1, self.inp_fc_size)  \n",
    "        x = torch.relu(self.fc1(x))  \n",
    "        #x = torch.relu(self.fc2(x))  \n",
    "        x = self.fc3(x) \n",
    "        return x\n",
    "    def batch_train(model, optimizer, x, y):\n",
    "        y_pred = model(x)\n",
    "        loss = loss_fn(y_pred, y)\n",
    "        model.zero_grad()\n",
    "        loss.backward()\n",
    "        optimizer.step()\n",
    "        return (loss.item())\n",
    "        \n",
    "    def fit(model, n_epochs, learning_rate, train_loader, test_loader):\n",
    "        acc_train_all = []\n",
    "        loss_train_all = []\n",
    "        acc_test_all = []\n",
    "        loss_test_all = []\n",
    "        optimizerAdam = torch.optim.Adam(model.parameters(), lr=0.01)\n",
    "\n",
    "\n",
    "\n",
    "        for epoch in range(n_epochs):\n",
    "            model.train()\n",
    "\n",
    "            #permutation = torch.randperm(X.size()[0])\n",
    "            acc_train = 0\n",
    "            loss_train = 0\n",
    "            acc_test = 0\n",
    "            loss_test = 0\n",
    "            for images, labels in train_loader:\n",
    "                model.batch_train(optimizerAdam, images, labels)\n",
    "\n",
    "            for images, labels in train_loader:\n",
    "                y_train_pred = model(images)\n",
    "                acc_train += accuracy_score(labels, y_train_pred.argmax(dim=1))\n",
    "                loss_train += loss_fn(y_train_pred, labels).detach()\n",
    "                \n",
    "            for images, labels in test_loader:\n",
    "                y_test_pred = model(images)\n",
    "                acc_test += accuracy_score(labels, y_test_pred.argmax(dim=1))\n",
    "                loss_test += loss_fn(y_test_pred, labels).detach()\n",
    "\n",
    "            acc_train_all = np.append(acc_train_all, acc_train / len(train_loader))\n",
    "            loss_train_all = np.append(loss_train_all, loss_train / len(train_loader))\n",
    "            acc_test_all = np.append(acc_test_all, acc_test / len(test_loader))\n",
    "            loss_test_all = np.append(loss_test_all, loss_test / len(test_loader))\n",
    "\n",
    "            print(f'Epoch {epoch}: \\n Accuracy - train: {acc_train / len(train_loader)} | test: {acc_test / len(test_loader)} \\n Loss - train: {loss_train / len(train_loader)} | test: {loss_test / len(test_loader)}')\n",
    "\n",
    "        return(acc_train_all, loss_train_all, acc_test_all, loss_test_all)\n",
    "        "
   ]
  },
  {
   "cell_type": "markdown",
   "id": "0847c2b5-7572-4353-ab68-156930405b67",
   "metadata": {},
   "source": [
    "# Здесь для удобства разбиения на батчи используем DataLoader"
   ]
  },
  {
   "cell_type": "code",
   "execution_count": 162,
   "id": "a4a4a7db-31bf-4c67-b6cf-9b4cf977ddb0",
   "metadata": {},
   "outputs": [],
   "source": [
    "transform = transforms.Compose([transforms.ToTensor(), transforms.Normalize((0.5,), (0.5,))])\n",
    "train_dataset = datasets.MNIST(root='./data', train=True, transform=transform, download=True)\n",
    "test_dataset = datasets.MNIST(root='./data', train=False, transform=transform, download=True)"
   ]
  },
  {
   "cell_type": "code",
   "execution_count": 163,
   "id": "b0357b1b-acfc-47a3-96b0-3296b621460d",
   "metadata": {},
   "outputs": [],
   "source": [
    "batch_size = 64 \n",
    "\n",
    "train_loader = DataLoader(dataset=train_dataset, batch_size=batch_size, shuffle=True)\n",
    "test_loader = DataLoader(dataset=test_dataset, batch_size=batch_size, shuffle=False)"
   ]
  },
  {
   "cell_type": "code",
   "execution_count": null,
   "id": "73ca84ed-2a92-4a6f-8517-21f39ef538ad",
   "metadata": {},
   "outputs": [],
   "source": []
  },
  {
   "cell_type": "code",
   "execution_count": 164,
   "id": "7f037d8d-c1e4-475b-b2b3-d4a7c09bfcf2",
   "metadata": {},
   "outputs": [],
   "source": [
    "n_epochs = 10\n",
    "learning_rate = 0.001\n",
    "\n",
    "loss_fn = torch.nn.CrossEntropyLoss()"
   ]
  },
  {
   "cell_type": "code",
   "execution_count": null,
   "id": "deb34793-8323-4554-805a-71564e0e8096",
   "metadata": {},
   "outputs": [],
   "source": []
  },
  {
   "cell_type": "code",
   "execution_count": 170,
   "id": "76d2bf6b-e27d-49db-922b-b1f650de1ec7",
   "metadata": {},
   "outputs": [
    {
     "name": "stdout",
     "output_type": "stream",
     "text": [
      "4.0\n"
     ]
    }
   ],
   "source": [
    "model_ln5 = Model_LeNet5()\n",
    "model_ln5 = model_ln5.apply(init_weights)"
   ]
  },
  {
   "cell_type": "code",
   "execution_count": 171,
   "id": "f83bdf93-33d7-4449-b515-f1dd60d2495e",
   "metadata": {},
   "outputs": [
    {
     "name": "stdout",
     "output_type": "stream",
     "text": [
      "Epoch 0: \n",
      " Accuracy - train: 0.9809434968017058 | test: 0.9809912420382165 \n",
      " Loss - train: 0.06237729638814926 | test: 0.05936572328209877\n",
      "Epoch 1: \n",
      " Accuracy - train: 0.9837919776119403 | test: 0.9827826433121019 \n",
      " Loss - train: 0.0535401776432991 | test: 0.05047722905874252\n",
      "Epoch 2: \n",
      " Accuracy - train: 0.9849913379530917 | test: 0.9814888535031847 \n",
      " Loss - train: 0.04775134474039078 | test: 0.059807419776916504\n",
      "Epoch 3: \n",
      " Accuracy - train: 0.9886727078891258 | test: 0.9819864649681529 \n",
      " Loss - train: 0.03708696737885475 | test: 0.05843980237841606\n",
      "Epoch 4: \n",
      " Accuracy - train: 0.9898720682302772 | test: 0.9841759554140127 \n",
      " Loss - train: 0.033114124089479446 | test: 0.052455052733421326\n",
      "Epoch 5: \n",
      " Accuracy - train: 0.9888226279317697 | test: 0.9846735668789809 \n",
      " Loss - train: 0.03616636246442795 | test: 0.05438163876533508\n",
      "Epoch 6: \n",
      " Accuracy - train: 0.9899720149253731 | test: 0.9849721337579618 \n",
      " Loss - train: 0.03380341827869415 | test: 0.05651821568608284\n",
      "Epoch 7: \n",
      " Accuracy - train: 0.9920209221748401 | test: 0.9857683121019108 \n",
      " Loss - train: 0.02611672505736351 | test: 0.052619922906160355\n",
      "Epoch 8: \n",
      " Accuracy - train: 0.9894223081023454 | test: 0.9848726114649682 \n",
      " Loss - train: 0.03669210150837898 | test: 0.06133401021361351\n",
      "Epoch 9: \n",
      " Accuracy - train: 0.9933202292110874 | test: 0.9885549363057324 \n",
      " Loss - train: 0.023824533447623253 | test: 0.051157187670469284\n"
     ]
    }
   ],
   "source": [
    "acc_train_lenet5, loss_train_all_lenet5, acc_test_all_lenet5, loss_test_all_lenet5 = model_ln5.fit(n_epochs, learning_rate, train_loader, test_loader)"
   ]
  },
  {
   "cell_type": "code",
   "execution_count": 172,
   "id": "b68af073-ca11-4b41-b49b-8e9b8e26fd91",
   "metadata": {},
   "outputs": [
    {
     "data": {
      "image/png": "[encoded data removed]",
      "text/plain": [
       "<Figure size 1600x400 with 2 Axes>"
      ]
     },
     "metadata": {},
     "output_type": "display_data"
    }
   ],
   "source": [
    "vis_history(acc_train_lenet5, loss_train_all_lenet5, acc_test_all_lenet5, loss_test_all_lenet5)"
   ]
  },
  {
   "cell_type": "code",
   "execution_count": null,
   "id": "c0bdf2f5-d587-4061-9f55-e5cf13205e7f",
   "metadata": {},
   "outputs": [],
   "source": []
  }
 ],
 "metadata": {
  "kernelspec": {
   "display_name": "Python 3 (ipykernel)",
   "language": "python",
   "name": "python3"
  },
  "language_info": {
   "codemirror_mode": {
    "name": "ipython",
    "version": 3
   },
   "file_extension": ".py",
   "mimetype": "text/x-python",
   "name": "python",
   "nbconvert_exporter": "python",
   "pygments_lexer": "ipython3",
   "version": "3.11.8"
  }
 },
 "nbformat": 4,
 "nbformat_minor": 5
}
